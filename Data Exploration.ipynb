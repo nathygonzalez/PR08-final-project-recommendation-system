{
 "cells": [
  {
   "cell_type": "markdown",
   "id": "d1d36523",
   "metadata": {},
   "source": [
    "# Import Libraries"
   ]
  },
  {
   "cell_type": "code",
   "execution_count": 53,
   "id": "e3b49b97",
   "metadata": {},
   "outputs": [],
   "source": [
    "import pandas as pd\n",
    "import numpy as np\n",
    "import matplotlib.pyplot as plt\n",
    "import seaborn as sns\n",
    "import warnings\n",
    "from sklearn.metrics.pairwise import cosine_similarity"
   ]
  },
  {
   "cell_type": "code",
   "execution_count": 54,
   "id": "f87aa25b-eabb-40a1-8633-378676dcf2de",
   "metadata": {},
   "outputs": [],
   "source": [
    "from scipy.sparse import csr_matrix"
   ]
  },
  {
   "cell_type": "code",
   "execution_count": 4,
   "id": "8d1c4ad5",
   "metadata": {},
   "outputs": [],
   "source": [
    "warnings.filterwarnings(\"ignore\")"
   ]
  },
  {
   "cell_type": "markdown",
   "id": "b4ff573c",
   "metadata": {},
   "source": [
    "# Dataset"
   ]
  },
  {
   "cell_type": "code",
   "execution_count": null,
   "id": "6ba29156",
   "metadata": {},
   "outputs": [],
   "source": [
    "# Original Dataset load (266MB) - 6 months long Glovo orders in BCN from Jul 1st to Dec 31st 2021"
   ]
  },
  {
   "cell_type": "code",
   "execution_count": 5,
   "id": "304ca016",
   "metadata": {},
   "outputs": [],
   "source": [
    "df = pd.read_csv ('data/orders 2022-03-05T1431.csv')"
   ]
  },
  {
   "cell_type": "code",
   "execution_count": 24,
   "id": "efa25a51",
   "metadata": {},
   "outputs": [
    {
     "data": {
      "text/plain": [
       "(2460001, 15)"
      ]
     },
     "execution_count": 24,
     "metadata": {},
     "output_type": "execute_result"
    }
   ],
   "source": [
    "df.shape"
   ]
  },
  {
   "cell_type": "code",
   "execution_count": 25,
   "id": "6cd22ec2",
   "metadata": {},
   "outputs": [
    {
     "data": {
      "text/html": [
       "<div>\n",
       "<style scoped>\n",
       "    .dataframe tbody tr th:only-of-type {\n",
       "        vertical-align: middle;\n",
       "    }\n",
       "\n",
       "    .dataframe tbody tr th {\n",
       "        vertical-align: top;\n",
       "    }\n",
       "\n",
       "    .dataframe thead th {\n",
       "        text-align: right;\n",
       "    }\n",
       "</style>\n",
       "<table border=\"1\" class=\"dataframe\">\n",
       "  <thead>\n",
       "    <tr style=\"text-align: right;\">\n",
       "      <th></th>\n",
       "      <th>Unnamed: 0</th>\n",
       "      <th>Code</th>\n",
       "      <th>Store Name</th>\n",
       "      <th>Store ID</th>\n",
       "      <th>Termination Local Date</th>\n",
       "      <th>Termination Local Time</th>\n",
       "      <th>Total Purchase</th>\n",
       "      <th>ID</th>\n",
       "      <th>Registration Age Range</th>\n",
       "      <th>Made More Than One Order (Yes / No)</th>\n",
       "      <th>Last Order Date</th>\n",
       "      <th>Staff (Yes / No)</th>\n",
       "      <th>Top Fifty (Yes / No)</th>\n",
       "      <th>Rating Store Service</th>\n",
       "      <th>Positive Store Service (Yes / No)</th>\n",
       "    </tr>\n",
       "  </thead>\n",
       "  <tbody>\n",
       "    <tr>\n",
       "      <th>0</th>\n",
       "      <td>1</td>\n",
       "      <td>B3JKGPPT</td>\n",
       "      <td>Five Guys</td>\n",
       "      <td>223524.0</td>\n",
       "      <td>2021-12-30</td>\n",
       "      <td>2021-12-30 12:59:24</td>\n",
       "      <td>11.5</td>\n",
       "      <td>861650.0</td>\n",
       "      <td>NaN</td>\n",
       "      <td>Yes</td>\n",
       "      <td>2021-12-30</td>\n",
       "      <td>No</td>\n",
       "      <td>No</td>\n",
       "      <td>Missing</td>\n",
       "      <td>No</td>\n",
       "    </tr>\n",
       "    <tr>\n",
       "      <th>1</th>\n",
       "      <td>2</td>\n",
       "      <td>BBRACYGD</td>\n",
       "      <td>Parking Pizza</td>\n",
       "      <td>1419.0</td>\n",
       "      <td>2021-12-30</td>\n",
       "      <td>2021-12-30 13:25:22</td>\n",
       "      <td>14.0</td>\n",
       "      <td>444732.0</td>\n",
       "      <td>NaN</td>\n",
       "      <td>Yes</td>\n",
       "      <td>2022-03-04</td>\n",
       "      <td>No</td>\n",
       "      <td>Yes</td>\n",
       "      <td>Positive</td>\n",
       "      <td>Yes</td>\n",
       "    </tr>\n",
       "    <tr>\n",
       "      <th>2</th>\n",
       "      <td>3</td>\n",
       "      <td>BSMP18DY</td>\n",
       "      <td>Crep Nova</td>\n",
       "      <td>97780.0</td>\n",
       "      <td>2021-12-30</td>\n",
       "      <td>2021-12-30 21:14:14</td>\n",
       "      <td>25.6</td>\n",
       "      <td>619969.0</td>\n",
       "      <td>25.0</td>\n",
       "      <td>Yes</td>\n",
       "      <td>2022-03-02</td>\n",
       "      <td>No</td>\n",
       "      <td>Yes</td>\n",
       "      <td>Positive</td>\n",
       "      <td>Yes</td>\n",
       "    </tr>\n",
       "    <tr>\n",
       "      <th>3</th>\n",
       "      <td>4</td>\n",
       "      <td>B3EQU1C8</td>\n",
       "      <td>McDonald's®</td>\n",
       "      <td>9487.0</td>\n",
       "      <td>2021-12-30</td>\n",
       "      <td>2021-12-30 22:42:29</td>\n",
       "      <td>16.2</td>\n",
       "      <td>1784091.0</td>\n",
       "      <td>50.0</td>\n",
       "      <td>Yes</td>\n",
       "      <td>2022-02-27</td>\n",
       "      <td>No</td>\n",
       "      <td>No</td>\n",
       "      <td>Missing</td>\n",
       "      <td>No</td>\n",
       "    </tr>\n",
       "    <tr>\n",
       "      <th>4</th>\n",
       "      <td>5</td>\n",
       "      <td>BRG4B1PG</td>\n",
       "      <td>TexMex &amp; Co</td>\n",
       "      <td>2122.0</td>\n",
       "      <td>2021-12-30</td>\n",
       "      <td>2021-12-30 21:39:17</td>\n",
       "      <td>28.85</td>\n",
       "      <td>6715.0</td>\n",
       "      <td>NaN</td>\n",
       "      <td>Yes</td>\n",
       "      <td>2022-01-23</td>\n",
       "      <td>No</td>\n",
       "      <td>No</td>\n",
       "      <td>Positive</td>\n",
       "      <td>Yes</td>\n",
       "    </tr>\n",
       "    <tr>\n",
       "      <th>...</th>\n",
       "      <td>...</td>\n",
       "      <td>...</td>\n",
       "      <td>...</td>\n",
       "      <td>...</td>\n",
       "      <td>...</td>\n",
       "      <td>...</td>\n",
       "      <td>...</td>\n",
       "      <td>...</td>\n",
       "      <td>...</td>\n",
       "      <td>...</td>\n",
       "      <td>...</td>\n",
       "      <td>...</td>\n",
       "      <td>...</td>\n",
       "      <td>...</td>\n",
       "      <td>...</td>\n",
       "    </tr>\n",
       "    <tr>\n",
       "      <th>95</th>\n",
       "      <td>96</td>\n",
       "      <td>B1VLURKR</td>\n",
       "      <td>Metropolitan Gourmet Burgers</td>\n",
       "      <td>40961.0</td>\n",
       "      <td>2021-12-30</td>\n",
       "      <td>2021-12-30 14:04:42</td>\n",
       "      <td>71.0</td>\n",
       "      <td>9749772.0</td>\n",
       "      <td>NaN</td>\n",
       "      <td>Yes</td>\n",
       "      <td>2022-03-01</td>\n",
       "      <td>No</td>\n",
       "      <td>No</td>\n",
       "      <td>Missing</td>\n",
       "      <td>No</td>\n",
       "    </tr>\n",
       "    <tr>\n",
       "      <th>96</th>\n",
       "      <td>97</td>\n",
       "      <td>B8PLTJMW</td>\n",
       "      <td>McDonald's®</td>\n",
       "      <td>9487.0</td>\n",
       "      <td>2021-12-30</td>\n",
       "      <td>2021-12-30 21:01:11</td>\n",
       "      <td>10.5</td>\n",
       "      <td>58048.0</td>\n",
       "      <td>NaN</td>\n",
       "      <td>Yes</td>\n",
       "      <td>2022-03-04</td>\n",
       "      <td>No</td>\n",
       "      <td>No</td>\n",
       "      <td>Positive</td>\n",
       "      <td>Yes</td>\n",
       "    </tr>\n",
       "    <tr>\n",
       "      <th>97</th>\n",
       "      <td>98</td>\n",
       "      <td>BVWZGWJC</td>\n",
       "      <td>Envols-Poké Bowls</td>\n",
       "      <td>118386.0</td>\n",
       "      <td>2021-12-30</td>\n",
       "      <td>2021-12-30 13:34:50</td>\n",
       "      <td>13.65</td>\n",
       "      <td>100490.0</td>\n",
       "      <td>NaN</td>\n",
       "      <td>Yes</td>\n",
       "      <td>2022-03-04</td>\n",
       "      <td>No</td>\n",
       "      <td>No</td>\n",
       "      <td>Positive</td>\n",
       "      <td>Yes</td>\n",
       "    </tr>\n",
       "    <tr>\n",
       "      <th>98</th>\n",
       "      <td>99</td>\n",
       "      <td>BL1LL1U5</td>\n",
       "      <td>Bonrollo</td>\n",
       "      <td>3116.0</td>\n",
       "      <td>2021-12-30</td>\n",
       "      <td>2021-12-30 21:15:34</td>\n",
       "      <td>9.5</td>\n",
       "      <td>19691738.0</td>\n",
       "      <td>NaN</td>\n",
       "      <td>Yes</td>\n",
       "      <td>2022-02-28</td>\n",
       "      <td>No</td>\n",
       "      <td>No</td>\n",
       "      <td>Missing</td>\n",
       "      <td>No</td>\n",
       "    </tr>\n",
       "    <tr>\n",
       "      <th>99</th>\n",
       "      <td>100</td>\n",
       "      <td>BLACLTHH</td>\n",
       "      <td>McDonald's®</td>\n",
       "      <td>9487.0</td>\n",
       "      <td>2021-12-30</td>\n",
       "      <td>2021-12-30 21:55:26</td>\n",
       "      <td>39.35</td>\n",
       "      <td>1253141.0</td>\n",
       "      <td>NaN</td>\n",
       "      <td>Yes</td>\n",
       "      <td>2022-03-04</td>\n",
       "      <td>No</td>\n",
       "      <td>No</td>\n",
       "      <td>Missing</td>\n",
       "      <td>No</td>\n",
       "    </tr>\n",
       "  </tbody>\n",
       "</table>\n",
       "<p>100 rows × 15 columns</p>\n",
       "</div>"
      ],
      "text/plain": [
       "   Unnamed: 0      Code                    Store Name  Store ID  \\\n",
       "0           1  B3JKGPPT                     Five Guys  223524.0   \n",
       "1           2  BBRACYGD                 Parking Pizza    1419.0   \n",
       "2           3  BSMP18DY                     Crep Nova   97780.0   \n",
       "3           4  B3EQU1C8                   McDonald's®    9487.0   \n",
       "4           5  BRG4B1PG                   TexMex & Co    2122.0   \n",
       "..        ...       ...                           ...       ...   \n",
       "95         96  B1VLURKR  Metropolitan Gourmet Burgers   40961.0   \n",
       "96         97  B8PLTJMW                   McDonald's®    9487.0   \n",
       "97         98  BVWZGWJC             Envols-Poké Bowls  118386.0   \n",
       "98         99  BL1LL1U5                      Bonrollo    3116.0   \n",
       "99        100  BLACLTHH                   McDonald's®    9487.0   \n",
       "\n",
       "   Termination Local Date Termination Local Time Total Purchase          ID  \\\n",
       "0              2021-12-30    2021-12-30 12:59:24           11.5    861650.0   \n",
       "1              2021-12-30    2021-12-30 13:25:22           14.0    444732.0   \n",
       "2              2021-12-30    2021-12-30 21:14:14           25.6    619969.0   \n",
       "3              2021-12-30    2021-12-30 22:42:29           16.2   1784091.0   \n",
       "4              2021-12-30    2021-12-30 21:39:17          28.85      6715.0   \n",
       "..                    ...                    ...            ...         ...   \n",
       "95             2021-12-30    2021-12-30 14:04:42           71.0   9749772.0   \n",
       "96             2021-12-30    2021-12-30 21:01:11           10.5     58048.0   \n",
       "97             2021-12-30    2021-12-30 13:34:50          13.65    100490.0   \n",
       "98             2021-12-30    2021-12-30 21:15:34            9.5  19691738.0   \n",
       "99             2021-12-30    2021-12-30 21:55:26          39.35   1253141.0   \n",
       "\n",
       "    Registration Age Range Made More Than One Order (Yes / No)  \\\n",
       "0                      NaN                                 Yes   \n",
       "1                      NaN                                 Yes   \n",
       "2                     25.0                                 Yes   \n",
       "3                     50.0                                 Yes   \n",
       "4                      NaN                                 Yes   \n",
       "..                     ...                                 ...   \n",
       "95                     NaN                                 Yes   \n",
       "96                     NaN                                 Yes   \n",
       "97                     NaN                                 Yes   \n",
       "98                     NaN                                 Yes   \n",
       "99                     NaN                                 Yes   \n",
       "\n",
       "   Last Order Date Staff (Yes / No) Top Fifty (Yes / No) Rating Store Service  \\\n",
       "0       2021-12-30               No                   No              Missing   \n",
       "1       2022-03-04               No                  Yes             Positive   \n",
       "2       2022-03-02               No                  Yes             Positive   \n",
       "3       2022-02-27               No                   No              Missing   \n",
       "4       2022-01-23               No                   No             Positive   \n",
       "..             ...              ...                  ...                  ...   \n",
       "95      2022-03-01               No                   No              Missing   \n",
       "96      2022-03-04               No                   No             Positive   \n",
       "97      2022-03-04               No                   No             Positive   \n",
       "98      2022-02-28               No                   No              Missing   \n",
       "99      2022-03-04               No                   No              Missing   \n",
       "\n",
       "   Positive Store Service (Yes / No)  \n",
       "0                                 No  \n",
       "1                                Yes  \n",
       "2                                Yes  \n",
       "3                                 No  \n",
       "4                                Yes  \n",
       "..                               ...  \n",
       "95                                No  \n",
       "96                               Yes  \n",
       "97                               Yes  \n",
       "98                                No  \n",
       "99                                No  \n",
       "\n",
       "[100 rows x 15 columns]"
      ]
     },
     "execution_count": 25,
     "metadata": {},
     "output_type": "execute_result"
    }
   ],
   "source": [
    "df.head(100)"
   ]
  },
  {
   "cell_type": "code",
   "execution_count": 26,
   "id": "c189e648",
   "metadata": {},
   "outputs": [
    {
     "name": "stdout",
     "output_type": "stream",
     "text": [
      "<class 'pandas.core.frame.DataFrame'>\n",
      "RangeIndex: 2460001 entries, 0 to 2460000\n",
      "Data columns (total 15 columns):\n",
      " #   Column                               Dtype  \n",
      "---  ------                               -----  \n",
      " 0   Unnamed: 0                           object \n",
      " 1   Code                                 object \n",
      " 2   Store Name                           object \n",
      " 3   Store ID                             float64\n",
      " 4   Termination Local Date               object \n",
      " 5   Termination Local Time               object \n",
      " 6   Total Purchase                       object \n",
      " 7   ID                                   float64\n",
      " 8   Registration Age Range               float64\n",
      " 9   Made More Than One Order (Yes / No)  object \n",
      " 10  Last Order Date                      object \n",
      " 11  Staff (Yes / No)                     object \n",
      " 12  Top Fifty (Yes / No)                 object \n",
      " 13  Rating Store Service                 object \n",
      " 14  Positive Store Service (Yes / No)    object \n",
      "dtypes: float64(3), object(12)\n",
      "memory usage: 281.5+ MB\n"
     ]
    }
   ],
   "source": [
    "df.info()"
   ]
  },
  {
   "cell_type": "code",
   "execution_count": 6,
   "id": "03483bf4",
   "metadata": {},
   "outputs": [
    {
     "data": {
      "text/plain": [
       "Unnamed: 0                                   0\n",
       "Code                                         1\n",
       "Store Name                                   1\n",
       "Store ID                                     1\n",
       "Termination Local Date                       1\n",
       "Termination Local Time                       1\n",
       "Total Purchase                               1\n",
       "ID                                           1\n",
       "Registration Age Range                 2004561\n",
       "Made More Than One Order (Yes / No)          1\n",
       "Last Order Date                             63\n",
       "Staff (Yes / No)                             1\n",
       "Top Fifty (Yes / No)                         1\n",
       "Rating Store Service                         1\n",
       "Positive Store Service (Yes / No)            1\n",
       "dtype: int64"
      ]
     },
     "execution_count": 6,
     "metadata": {},
     "output_type": "execute_result"
    }
   ],
   "source": [
    "# Identificando NAs\n",
    "df.isna().sum()"
   ]
  },
  {
   "cell_type": "code",
   "execution_count": 35,
   "id": "0cf26cb7",
   "metadata": {},
   "outputs": [
    {
     "data": {
      "text/html": [
       "<div>\n",
       "<style scoped>\n",
       "    .dataframe tbody tr th:only-of-type {\n",
       "        vertical-align: middle;\n",
       "    }\n",
       "\n",
       "    .dataframe tbody tr th {\n",
       "        vertical-align: top;\n",
       "    }\n",
       "\n",
       "    .dataframe thead th {\n",
       "        text-align: right;\n",
       "    }\n",
       "</style>\n",
       "<table border=\"1\" class=\"dataframe\">\n",
       "  <thead>\n",
       "    <tr style=\"text-align: right;\">\n",
       "      <th></th>\n",
       "      <th>Unnamed: 0</th>\n",
       "      <th>Code</th>\n",
       "      <th>Store Name</th>\n",
       "      <th>Store ID</th>\n",
       "      <th>Termination Local Date</th>\n",
       "      <th>Termination Local Time</th>\n",
       "      <th>Total Purchase</th>\n",
       "      <th>ID</th>\n",
       "      <th>Made More Than One Order (Yes / No)</th>\n",
       "      <th>Last Order Date</th>\n",
       "      <th>Staff (Yes / No)</th>\n",
       "      <th>Top Fifty (Yes / No)</th>\n",
       "      <th>Rating Store Service</th>\n",
       "      <th>Positive Store Service (Yes / No)</th>\n",
       "    </tr>\n",
       "  </thead>\n",
       "  <tbody>\n",
       "    <tr>\n",
       "      <th>0</th>\n",
       "      <td>False</td>\n",
       "      <td>False</td>\n",
       "      <td>False</td>\n",
       "      <td>False</td>\n",
       "      <td>False</td>\n",
       "      <td>False</td>\n",
       "      <td>False</td>\n",
       "      <td>False</td>\n",
       "      <td>False</td>\n",
       "      <td>False</td>\n",
       "      <td>False</td>\n",
       "      <td>False</td>\n",
       "      <td>False</td>\n",
       "      <td>False</td>\n",
       "    </tr>\n",
       "    <tr>\n",
       "      <th>1</th>\n",
       "      <td>False</td>\n",
       "      <td>False</td>\n",
       "      <td>False</td>\n",
       "      <td>False</td>\n",
       "      <td>False</td>\n",
       "      <td>False</td>\n",
       "      <td>False</td>\n",
       "      <td>False</td>\n",
       "      <td>False</td>\n",
       "      <td>False</td>\n",
       "      <td>False</td>\n",
       "      <td>False</td>\n",
       "      <td>False</td>\n",
       "      <td>False</td>\n",
       "    </tr>\n",
       "    <tr>\n",
       "      <th>2</th>\n",
       "      <td>False</td>\n",
       "      <td>False</td>\n",
       "      <td>False</td>\n",
       "      <td>False</td>\n",
       "      <td>False</td>\n",
       "      <td>False</td>\n",
       "      <td>False</td>\n",
       "      <td>False</td>\n",
       "      <td>False</td>\n",
       "      <td>False</td>\n",
       "      <td>False</td>\n",
       "      <td>False</td>\n",
       "      <td>False</td>\n",
       "      <td>False</td>\n",
       "    </tr>\n",
       "    <tr>\n",
       "      <th>3</th>\n",
       "      <td>False</td>\n",
       "      <td>False</td>\n",
       "      <td>False</td>\n",
       "      <td>False</td>\n",
       "      <td>False</td>\n",
       "      <td>False</td>\n",
       "      <td>False</td>\n",
       "      <td>False</td>\n",
       "      <td>False</td>\n",
       "      <td>False</td>\n",
       "      <td>False</td>\n",
       "      <td>False</td>\n",
       "      <td>False</td>\n",
       "      <td>False</td>\n",
       "    </tr>\n",
       "    <tr>\n",
       "      <th>4</th>\n",
       "      <td>False</td>\n",
       "      <td>False</td>\n",
       "      <td>False</td>\n",
       "      <td>False</td>\n",
       "      <td>False</td>\n",
       "      <td>False</td>\n",
       "      <td>False</td>\n",
       "      <td>False</td>\n",
       "      <td>False</td>\n",
       "      <td>False</td>\n",
       "      <td>False</td>\n",
       "      <td>False</td>\n",
       "      <td>False</td>\n",
       "      <td>False</td>\n",
       "    </tr>\n",
       "    <tr>\n",
       "      <th>...</th>\n",
       "      <td>...</td>\n",
       "      <td>...</td>\n",
       "      <td>...</td>\n",
       "      <td>...</td>\n",
       "      <td>...</td>\n",
       "      <td>...</td>\n",
       "      <td>...</td>\n",
       "      <td>...</td>\n",
       "      <td>...</td>\n",
       "      <td>...</td>\n",
       "      <td>...</td>\n",
       "      <td>...</td>\n",
       "      <td>...</td>\n",
       "      <td>...</td>\n",
       "    </tr>\n",
       "    <tr>\n",
       "      <th>2459996</th>\n",
       "      <td>False</td>\n",
       "      <td>False</td>\n",
       "      <td>False</td>\n",
       "      <td>False</td>\n",
       "      <td>False</td>\n",
       "      <td>False</td>\n",
       "      <td>False</td>\n",
       "      <td>False</td>\n",
       "      <td>False</td>\n",
       "      <td>False</td>\n",
       "      <td>False</td>\n",
       "      <td>False</td>\n",
       "      <td>False</td>\n",
       "      <td>False</td>\n",
       "    </tr>\n",
       "    <tr>\n",
       "      <th>2459997</th>\n",
       "      <td>False</td>\n",
       "      <td>False</td>\n",
       "      <td>False</td>\n",
       "      <td>False</td>\n",
       "      <td>False</td>\n",
       "      <td>False</td>\n",
       "      <td>False</td>\n",
       "      <td>False</td>\n",
       "      <td>False</td>\n",
       "      <td>False</td>\n",
       "      <td>False</td>\n",
       "      <td>False</td>\n",
       "      <td>False</td>\n",
       "      <td>False</td>\n",
       "    </tr>\n",
       "    <tr>\n",
       "      <th>2459998</th>\n",
       "      <td>False</td>\n",
       "      <td>False</td>\n",
       "      <td>False</td>\n",
       "      <td>False</td>\n",
       "      <td>False</td>\n",
       "      <td>False</td>\n",
       "      <td>False</td>\n",
       "      <td>False</td>\n",
       "      <td>False</td>\n",
       "      <td>False</td>\n",
       "      <td>False</td>\n",
       "      <td>False</td>\n",
       "      <td>False</td>\n",
       "      <td>False</td>\n",
       "    </tr>\n",
       "    <tr>\n",
       "      <th>2459999</th>\n",
       "      <td>False</td>\n",
       "      <td>False</td>\n",
       "      <td>False</td>\n",
       "      <td>False</td>\n",
       "      <td>False</td>\n",
       "      <td>False</td>\n",
       "      <td>False</td>\n",
       "      <td>False</td>\n",
       "      <td>False</td>\n",
       "      <td>False</td>\n",
       "      <td>False</td>\n",
       "      <td>False</td>\n",
       "      <td>False</td>\n",
       "      <td>False</td>\n",
       "    </tr>\n",
       "    <tr>\n",
       "      <th>2460000</th>\n",
       "      <td>False</td>\n",
       "      <td>True</td>\n",
       "      <td>True</td>\n",
       "      <td>True</td>\n",
       "      <td>True</td>\n",
       "      <td>True</td>\n",
       "      <td>True</td>\n",
       "      <td>True</td>\n",
       "      <td>True</td>\n",
       "      <td>True</td>\n",
       "      <td>True</td>\n",
       "      <td>True</td>\n",
       "      <td>True</td>\n",
       "      <td>True</td>\n",
       "    </tr>\n",
       "  </tbody>\n",
       "</table>\n",
       "<p>2460001 rows × 14 columns</p>\n",
       "</div>"
      ],
      "text/plain": [
       "         Unnamed: 0   Code  Store Name  Store ID  Termination Local Date  \\\n",
       "0             False  False       False     False                   False   \n",
       "1             False  False       False     False                   False   \n",
       "2             False  False       False     False                   False   \n",
       "3             False  False       False     False                   False   \n",
       "4             False  False       False     False                   False   \n",
       "...             ...    ...         ...       ...                     ...   \n",
       "2459996       False  False       False     False                   False   \n",
       "2459997       False  False       False     False                   False   \n",
       "2459998       False  False       False     False                   False   \n",
       "2459999       False  False       False     False                   False   \n",
       "2460000       False   True        True      True                    True   \n",
       "\n",
       "         Termination Local Time  Total Purchase     ID  \\\n",
       "0                         False           False  False   \n",
       "1                         False           False  False   \n",
       "2                         False           False  False   \n",
       "3                         False           False  False   \n",
       "4                         False           False  False   \n",
       "...                         ...             ...    ...   \n",
       "2459996                   False           False  False   \n",
       "2459997                   False           False  False   \n",
       "2459998                   False           False  False   \n",
       "2459999                   False           False  False   \n",
       "2460000                    True            True   True   \n",
       "\n",
       "         Made More Than One Order (Yes / No)  Last Order Date  \\\n",
       "0                                      False            False   \n",
       "1                                      False            False   \n",
       "2                                      False            False   \n",
       "3                                      False            False   \n",
       "4                                      False            False   \n",
       "...                                      ...              ...   \n",
       "2459996                                False            False   \n",
       "2459997                                False            False   \n",
       "2459998                                False            False   \n",
       "2459999                                False            False   \n",
       "2460000                                 True             True   \n",
       "\n",
       "         Staff (Yes / No)  Top Fifty (Yes / No)  Rating Store Service  \\\n",
       "0                   False                 False                 False   \n",
       "1                   False                 False                 False   \n",
       "2                   False                 False                 False   \n",
       "3                   False                 False                 False   \n",
       "4                   False                 False                 False   \n",
       "...                   ...                   ...                   ...   \n",
       "2459996             False                 False                 False   \n",
       "2459997             False                 False                 False   \n",
       "2459998             False                 False                 False   \n",
       "2459999             False                 False                 False   \n",
       "2460000              True                  True                  True   \n",
       "\n",
       "         Positive Store Service (Yes / No)  \n",
       "0                                    False  \n",
       "1                                    False  \n",
       "2                                    False  \n",
       "3                                    False  \n",
       "4                                    False  \n",
       "...                                    ...  \n",
       "2459996                              False  \n",
       "2459997                              False  \n",
       "2459998                              False  \n",
       "2459999                              False  \n",
       "2460000                               True  \n",
       "\n",
       "[2460001 rows x 14 columns]"
      ]
     },
     "execution_count": 35,
     "metadata": {},
     "output_type": "execute_result"
    }
   ],
   "source": [
    "# Identifying row with NAs\n",
    "df.drop('Registration Age Range',axis=1).isna()==True"
   ]
  },
  {
   "cell_type": "code",
   "execution_count": 29,
   "id": "8bab863b",
   "metadata": {},
   "outputs": [
    {
     "data": {
      "text/plain": [
       "Unnamed: 0                             SQL Error: ERROR: Query (77073085) cancelled b...\n",
       "Code                                                                                 NaN\n",
       "Store Name                                                                           NaN\n",
       "Store ID                                                                             NaN\n",
       "Termination Local Date                                                               NaN\n",
       "Termination Local Time                                                               NaN\n",
       "Total Purchase                                                                       NaN\n",
       "ID                                                                                   NaN\n",
       "Registration Age Range                                                               NaN\n",
       "Made More Than One Order (Yes / No)                                                  NaN\n",
       "Last Order Date                                                                      NaN\n",
       "Staff (Yes / No)                                                                     NaN\n",
       "Top Fifty (Yes / No)                                                                 NaN\n",
       "Rating Store Service                                                                 NaN\n",
       "Positive Store Service (Yes / No)                                                    NaN\n",
       "Name: 2460000, dtype: object"
      ]
     },
     "execution_count": 29,
     "metadata": {},
     "output_type": "execute_result"
    }
   ],
   "source": [
    "# Identified row 2460000 as all NAs\n",
    "df.loc[2460000]"
   ]
  },
  {
   "cell_type": "code",
   "execution_count": 7,
   "id": "9183c0c5",
   "metadata": {},
   "outputs": [],
   "source": [
    "# I'm droping this one row as it's only one over 2M\n",
    "df.drop([2460000], axis=0, inplace=True)"
   ]
  },
  {
   "cell_type": "code",
   "execution_count": 8,
   "id": "7f2199f2",
   "metadata": {},
   "outputs": [
    {
     "data": {
      "text/plain": [
       "Unnamed: 0                                   0\n",
       "Code                                         0\n",
       "Store Name                                   0\n",
       "Store ID                                     0\n",
       "Termination Local Date                       0\n",
       "Termination Local Time                       0\n",
       "Total Purchase                               0\n",
       "ID                                           0\n",
       "Registration Age Range                 2004560\n",
       "Made More Than One Order (Yes / No)          0\n",
       "Last Order Date                             62\n",
       "Staff (Yes / No)                             0\n",
       "Top Fifty (Yes / No)                         0\n",
       "Rating Store Service                         0\n",
       "Positive Store Service (Yes / No)            0\n",
       "dtype: int64"
      ]
     },
     "execution_count": 8,
     "metadata": {},
     "output_type": "execute_result"
    }
   ],
   "source": [
    "# Counterproof of NAs\n",
    "df.isna().sum()"
   ]
  },
  {
   "cell_type": "code",
   "execution_count": 38,
   "id": "840d2b9e",
   "metadata": {},
   "outputs": [
    {
     "data": {
      "text/plain": [
       "30.0     141758\n",
       "25.0     119350\n",
       "35.0      87945\n",
       "40.0      47185\n",
       "45.0      23206\n",
       "20.0      17861\n",
       "50.0       9899\n",
       "55.0       3748\n",
       "60.0       1538\n",
       "115.0       608\n",
       "105.0       567\n",
       "65.0        559\n",
       "70.0        360\n",
       "110.0       221\n",
       "100.0       164\n",
       "75.0        150\n",
       "90.0        138\n",
       "15.0         74\n",
       "95.0         39\n",
       "80.0         36\n",
       "85.0         34\n",
       "Name: Registration Age Range, dtype: int64"
      ]
     },
     "execution_count": 38,
     "metadata": {},
     "output_type": "execute_result"
    }
   ],
   "source": [
    "#Checking information regarding Age Range\n",
    "df['Registration Age Range'].value_counts()"
   ]
  },
  {
   "cell_type": "code",
   "execution_count": 39,
   "id": "496224c9",
   "metadata": {},
   "outputs": [
    {
     "data": {
      "text/plain": [
       "No     1484266\n",
       "Yes     975734\n",
       "Name: Positive Store Service (Yes / No), dtype: int64"
      ]
     },
     "execution_count": 39,
     "metadata": {},
     "output_type": "execute_result"
    }
   ],
   "source": [
    "df['Positive Store Service (Yes / No)'].value_counts()"
   ]
  },
  {
   "cell_type": "code",
   "execution_count": null,
   "id": "6feff323",
   "metadata": {},
   "outputs": [],
   "source": [
    "# Creation of a smaller dataset"
   ]
  },
  {
   "cell_type": "code",
   "execution_count": 40,
   "id": "6033a00b",
   "metadata": {},
   "outputs": [],
   "source": [
    "df1 = df[['Code','Store Name','ID','Positive Store Service (Yes / No)']]"
   ]
  },
  {
   "cell_type": "code",
   "execution_count": 41,
   "id": "62e6df11",
   "metadata": {},
   "outputs": [],
   "source": [
    "df1.to_csv('data\\df_matrix.csv',index=False)"
   ]
  },
  {
   "cell_type": "code",
   "execution_count": 41,
   "id": "15076e42-416b-4137-a361-b0feb053f7ed",
   "metadata": {},
   "outputs": [],
   "source": [
    "# TIRAR ESSA LINHA DEPOIS!!!!!!!!!!!!!\n",
    "df1 = pd.read_csv ('data/df_matrix.csv')"
   ]
  },
  {
   "cell_type": "code",
   "execution_count": 10,
   "id": "839af5ab",
   "metadata": {},
   "outputs": [
    {
     "data": {
      "text/plain": [
       "(2460000, 4)"
      ]
     },
     "execution_count": 10,
     "metadata": {},
     "output_type": "execute_result"
    }
   ],
   "source": [
    "df1.shape"
   ]
  },
  {
   "cell_type": "markdown",
   "id": "473d68f0",
   "metadata": {},
   "source": [
    "# Matrix Dataset"
   ]
  },
  {
   "cell_type": "code",
   "execution_count": 44,
   "id": "73391dac",
   "metadata": {},
   "outputs": [
    {
     "data": {
      "text/html": [
       "<div>\n",
       "<style scoped>\n",
       "    .dataframe tbody tr th:only-of-type {\n",
       "        vertical-align: middle;\n",
       "    }\n",
       "\n",
       "    .dataframe tbody tr th {\n",
       "        vertical-align: top;\n",
       "    }\n",
       "\n",
       "    .dataframe thead th {\n",
       "        text-align: right;\n",
       "    }\n",
       "</style>\n",
       "<table border=\"1\" class=\"dataframe\">\n",
       "  <thead>\n",
       "    <tr style=\"text-align: right;\">\n",
       "      <th></th>\n",
       "      <th>Code</th>\n",
       "      <th>Store Name</th>\n",
       "      <th>ID</th>\n",
       "      <th>Positive Store Service (Yes / No)</th>\n",
       "    </tr>\n",
       "  </thead>\n",
       "  <tbody>\n",
       "    <tr>\n",
       "      <th>0</th>\n",
       "      <td>B3JKGPPT</td>\n",
       "      <td>Five Guys</td>\n",
       "      <td>861650.0</td>\n",
       "      <td>No</td>\n",
       "    </tr>\n",
       "    <tr>\n",
       "      <th>1</th>\n",
       "      <td>BBRACYGD</td>\n",
       "      <td>Parking Pizza</td>\n",
       "      <td>444732.0</td>\n",
       "      <td>Yes</td>\n",
       "    </tr>\n",
       "    <tr>\n",
       "      <th>2</th>\n",
       "      <td>BSMP18DY</td>\n",
       "      <td>Crep Nova</td>\n",
       "      <td>619969.0</td>\n",
       "      <td>Yes</td>\n",
       "    </tr>\n",
       "    <tr>\n",
       "      <th>3</th>\n",
       "      <td>B3EQU1C8</td>\n",
       "      <td>McDonald's®</td>\n",
       "      <td>1784091.0</td>\n",
       "      <td>No</td>\n",
       "    </tr>\n",
       "    <tr>\n",
       "      <th>4</th>\n",
       "      <td>BRG4B1PG</td>\n",
       "      <td>TexMex &amp; Co</td>\n",
       "      <td>6715.0</td>\n",
       "      <td>Yes</td>\n",
       "    </tr>\n",
       "    <tr>\n",
       "      <th>5</th>\n",
       "      <td>BCBA18DC</td>\n",
       "      <td>Kebab Nepolis Pizza</td>\n",
       "      <td>243807.0</td>\n",
       "      <td>No</td>\n",
       "    </tr>\n",
       "    <tr>\n",
       "      <th>6</th>\n",
       "      <td>BQM2M11H</td>\n",
       "      <td>Secrets By Farga</td>\n",
       "      <td>159806.0</td>\n",
       "      <td>Yes</td>\n",
       "    </tr>\n",
       "    <tr>\n",
       "      <th>7</th>\n",
       "      <td>B37MGPNM</td>\n",
       "      <td>VICIO</td>\n",
       "      <td>60988.0</td>\n",
       "      <td>No</td>\n",
       "    </tr>\n",
       "    <tr>\n",
       "      <th>8</th>\n",
       "      <td>BPE66S4D</td>\n",
       "      <td>McDonald's®</td>\n",
       "      <td>43750.0</td>\n",
       "      <td>No</td>\n",
       "    </tr>\n",
       "    <tr>\n",
       "      <th>9</th>\n",
       "      <td>BFVLQGAL</td>\n",
       "      <td>Yoüme Sushi</td>\n",
       "      <td>1423043.0</td>\n",
       "      <td>No</td>\n",
       "    </tr>\n",
       "  </tbody>\n",
       "</table>\n",
       "</div>"
      ],
      "text/plain": [
       "       Code           Store Name         ID Positive Store Service (Yes / No)\n",
       "0  B3JKGPPT            Five Guys   861650.0                                No\n",
       "1  BBRACYGD        Parking Pizza   444732.0                               Yes\n",
       "2  BSMP18DY            Crep Nova   619969.0                               Yes\n",
       "3  B3EQU1C8          McDonald's®  1784091.0                                No\n",
       "4  BRG4B1PG          TexMex & Co     6715.0                               Yes\n",
       "5  BCBA18DC  Kebab Nepolis Pizza   243807.0                                No\n",
       "6  BQM2M11H     Secrets By Farga   159806.0                               Yes\n",
       "7  B37MGPNM                VICIO    60988.0                                No\n",
       "8  BPE66S4D          McDonald's®    43750.0                                No\n",
       "9  BFVLQGAL          Yoüme Sushi  1423043.0                                No"
      ]
     },
     "execution_count": 44,
     "metadata": {},
     "output_type": "execute_result"
    }
   ],
   "source": [
    "df1.head(10)"
   ]
  },
  {
   "cell_type": "code",
   "execution_count": 36,
   "id": "37b1843a",
   "metadata": {},
   "outputs": [
    {
     "data": {
      "text/plain": [
       "Code                                 0\n",
       "Store Name                           0\n",
       "ID                                   0\n",
       "Positive Store Service (Yes / No)    0\n",
       "dtype: int64"
      ]
     },
     "execution_count": 36,
     "metadata": {},
     "output_type": "execute_result"
    }
   ],
   "source": [
    "# Checking for NAs\n",
    "df1.isna().sum()"
   ]
  },
  {
   "cell_type": "code",
   "execution_count": 46,
   "id": "f16555af",
   "metadata": {},
   "outputs": [
    {
     "name": "stdout",
     "output_type": "stream",
     "text": [
      "<class 'pandas.core.frame.DataFrame'>\n",
      "Int64Index: 2460000 entries, 0 to 2459999\n",
      "Data columns (total 4 columns):\n",
      " #   Column                             Dtype  \n",
      "---  ------                             -----  \n",
      " 0   Code                               object \n",
      " 1   Store Name                         object \n",
      " 2   ID                                 float64\n",
      " 3   Positive Store Service (Yes / No)  object \n",
      "dtypes: float64(1), object(3)\n",
      "memory usage: 93.8+ MB\n"
     ]
    }
   ],
   "source": [
    "df1.info()"
   ]
  },
  {
   "cell_type": "code",
   "execution_count": 59,
   "id": "ccbe02c9-bf85-4b20-8423-91984416ed6a",
   "metadata": {},
   "outputs": [
    {
     "data": {
      "text/plain": [
       "Text(0.5, 1.0, 'Distribution of votes')"
      ]
     },
     "execution_count": 59,
     "metadata": {},
     "output_type": "execute_result"
    },
    {
     "data": {
      "image/png": "[encoded data removed]",
      "text/plain": [
       "<Figure size 864x576 with 1 Axes>"
      ]
     },
     "metadata": {},
     "output_type": "display_data"
    }
   ],
   "source": [
    "# Visualization of the distribution of votes to check how balanced the metric is\n",
    "ratings_count = df1['Positive Store Service (Yes / No)'].value_counts()\n",
    "plt.figure(figsize=(12,8))\n",
    "ax = ratings_count.plot.bar()\n",
    "ax.set_xlabel(\"Rating\")\n",
    "ax.set_ylabel(\"Number of votes\");\n",
    "ax.set_title(\"Distribution of votes\")"
   ]
  },
  {
   "cell_type": "code",
   "execution_count": 42,
   "id": "4dd9ead8-3ff6-4cd6-8b75-81b1855efb6e",
   "metadata": {},
   "outputs": [],
   "source": [
    "# Renaming the column\n",
    "df1.rename(columns = {'Positive Store Service (Yes / No)':'rating'}, inplace = True)"
   ]
  },
  {
   "cell_type": "code",
   "execution_count": 33,
   "id": "8b25b23c-4ce8-441e-ba29-12f9002ada8c",
   "metadata": {},
   "outputs": [
    {
     "data": {
      "text/plain": [
       "Store Name\n",
       "McDonald's®                346060\n",
       "KFC                        130862\n",
       "Glovo Express              128973\n",
       "VICIO                       50244\n",
       "Goiko                       48533\n",
       "Yoüme Sushi                 48102\n",
       "Five Guys                   43300\n",
       "Gonzalez & Co               42983\n",
       "Burger King                 42002\n",
       "Honest Greens               41025\n",
       "UDON                        36477\n",
       "La Tagliatella              30121\n",
       "TGB                         23861\n",
       "Subway                      22410\n",
       "Papa John's                 21694\n",
       "Crep Nova                   19585\n",
       "Pans & Company              18865\n",
       "Sports Bar Italian Food     18778\n",
       "Carrefour                   17922\n",
       "Healthy Poke                17369\n",
       "Chalito                     15604\n",
       "Telepizza                   15295\n",
       "Taco Bell                   14677\n",
       "Secrets By Farga            13927\n",
       "Can Pizza                   13261\n",
       "NAP                         11971\n",
       "Petit Bangkok               11248\n",
       "Takumi Ramen & Yakisoba     10757\n",
       "TEIKIT Sushi Fusion         10346\n",
       "Starbucks                    9953\n",
       "Poke Sí                      9732\n",
       "Drinks                       9441\n",
       "Parking Pizza                9270\n",
       "365 Obrador                  9249\n",
       "Faborit                      9220\n",
       "Pollos Rikos                 9189\n",
       "Domino's Pizza               9087\n",
       "The Fresh Poke               9016\n",
       "Del Poble Pizzeria           8739\n",
       "Empanadas Las Muns           8428\n",
       "Juicy Avenue                 8391\n",
       "Doner Kebab El Maño          8303\n",
       "Rostissería Los Pollos       8056\n",
       "Nomomoto                     7881\n",
       "Bacoa                        7470\n",
       "La Taquería                  7462\n",
       "Tío Bigotes                  7200\n",
       "Ramen Shifu                  7094\n",
       "Dunkin'                      7065\n",
       "Poke House                   6905\n",
       "Name: Code, dtype: int64"
      ]
     },
     "execution_count": 33,
     "metadata": {},
     "output_type": "execute_result"
    }
   ],
   "source": [
    "# Top 50 stores with more Orders\n",
    "df1.groupby(['Store Name'])['Code'].count().sort_values(ascending=False).head(50)"
   ]
  },
  {
   "cell_type": "code",
   "execution_count": 22,
   "id": "59c24332-5d03-41c5-83bc-7ca697ed5d3d",
   "metadata": {},
   "outputs": [
    {
     "data": {
      "text/plain": [
       "McDonald's®                             346060\n",
       "KFC                                     130862\n",
       "Glovo Express                           128973\n",
       "VICIO                                    50244\n",
       "Goiko                                    48533\n",
       "                                         ...  \n",
       "Trieste Horta Doner Kebab y Pizzeria         1\n",
       "Café del sol                                 1\n",
       "3 Monkeys                                    1\n",
       "Golat Helados                                1\n",
       "Las Quecas                                   1\n",
       "Name: Store Name, Length: 2830, dtype: int64"
      ]
     },
     "execution_count": 22,
     "metadata": {},
     "output_type": "execute_result"
    }
   ],
   "source": [
    "# Checking how many different restaurants the dataset has: 2830 \n",
    "df1['Store Name'].value_counts()"
   ]
  },
  {
   "cell_type": "code",
   "execution_count": 43,
   "id": "9e6aa32a",
   "metadata": {},
   "outputs": [],
   "source": [
    "# Transforming Positive Evaluation into number\n",
    "df1['rating'] = df1['rating'].apply(lambda x: 1 if x=='Yes' else 0)"
   ]
  },
  {
   "cell_type": "code",
   "execution_count": 44,
   "id": "47ca80c5",
   "metadata": {},
   "outputs": [
    {
     "data": {
      "text/plain": [
       "0    1484266\n",
       "1     975734\n",
       "Name: rating, dtype: int64"
      ]
     },
     "execution_count": 44,
     "metadata": {},
     "output_type": "execute_result"
    }
   ],
   "source": [
    "df1['rating'].value_counts()"
   ]
  },
  {
   "cell_type": "code",
   "execution_count": 26,
   "id": "9bf881b6-c807-4cc7-9f39-4c8839bae219",
   "metadata": {},
   "outputs": [
    {
     "data": {
      "text/plain": [
       "156531.0      1633\n",
       "1600826.0      299\n",
       "633979.0       272\n",
       "24634271.0     233\n",
       "17470.0        225\n",
       "              ... \n",
       "13222967.0       1\n",
       "51202396.0       1\n",
       "25023809.0       1\n",
       "57618461.0       1\n",
       "76520713.0       1\n",
       "Name: ID, Length: 391554, dtype: int64"
      ]
     },
     "execution_count": 26,
     "metadata": {},
     "output_type": "execute_result"
    }
   ],
   "source": [
    "# Checking how many different users the dataset has: 391.554\n",
    "df1['ID'].value_counts()"
   ]
  },
  {
   "cell_type": "code",
   "execution_count": 45,
   "id": "5125b08b-6674-46c8-ace1-5b0dc322be68",
   "metadata": {},
   "outputs": [],
   "source": [
    "# Transforming ID column in String\n",
    "df1['ID']= df1['ID'].astype(str)"
   ]
  },
  {
   "cell_type": "code",
   "execution_count": 52,
   "id": "a1e38d60",
   "metadata": {},
   "outputs": [
    {
     "data": {
      "text/plain": [
       "BQJL6LVA    2\n",
       "BAFG66DM    2\n",
       "BB1UPHPL    2\n",
       "BL1ZVDLW    2\n",
       "B1RVFLN1    2\n",
       "           ..\n",
       "BNQBZSGW    1\n",
       "BLSAWBPL    1\n",
       "BJMBNXLB    1\n",
       "BL41M68N    1\n",
       "BLJEJVEN    1\n",
       "Name: Code, Length: 2459636, dtype: int64"
      ]
     },
     "execution_count": 52,
     "metadata": {},
     "output_type": "execute_result"
    }
   ],
   "source": [
    "df1['Code'].value_counts()"
   ]
  },
  {
   "cell_type": "code",
   "execution_count": 37,
   "id": "ac3a00b3-fe72-4ec9-96ad-f16d1441091e",
   "metadata": {},
   "outputs": [
    {
     "data": {
      "text/html": [
       "<div>\n",
       "<style scoped>\n",
       "    .dataframe tbody tr th:only-of-type {\n",
       "        vertical-align: middle;\n",
       "    }\n",
       "\n",
       "    .dataframe tbody tr th {\n",
       "        vertical-align: top;\n",
       "    }\n",
       "\n",
       "    .dataframe thead th {\n",
       "        text-align: right;\n",
       "    }\n",
       "</style>\n",
       "<table border=\"1\" class=\"dataframe\">\n",
       "  <thead>\n",
       "    <tr style=\"text-align: right;\">\n",
       "      <th></th>\n",
       "      <th>ID</th>\n",
       "      <th>Store Name</th>\n",
       "      <th>Code</th>\n",
       "    </tr>\n",
       "  </thead>\n",
       "  <tbody>\n",
       "    <tr>\n",
       "      <th>0</th>\n",
       "      <td>223.0</td>\n",
       "      <td>Enlagloria Salad House</td>\n",
       "      <td>1</td>\n",
       "    </tr>\n",
       "    <tr>\n",
       "      <th>1</th>\n",
       "      <td>223.0</td>\n",
       "      <td>Feliz Pollo Last</td>\n",
       "      <td>1</td>\n",
       "    </tr>\n",
       "    <tr>\n",
       "      <th>2</th>\n",
       "      <td>223.0</td>\n",
       "      <td>Glovo Express</td>\n",
       "      <td>1</td>\n",
       "    </tr>\n",
       "    <tr>\n",
       "      <th>3</th>\n",
       "      <td>223.0</td>\n",
       "      <td>Miguelon Sabor Peruano</td>\n",
       "      <td>1</td>\n",
       "    </tr>\n",
       "    <tr>\n",
       "      <th>4</th>\n",
       "      <td>223.0</td>\n",
       "      <td>Salad Market</td>\n",
       "      <td>11</td>\n",
       "    </tr>\n",
       "    <tr>\n",
       "      <th>...</th>\n",
       "      <td>...</td>\n",
       "      <td>...</td>\n",
       "      <td>...</td>\n",
       "    </tr>\n",
       "    <tr>\n",
       "      <th>1415287</th>\n",
       "      <td>104736642.0</td>\n",
       "      <td>McDonald's®</td>\n",
       "      <td>1</td>\n",
       "    </tr>\n",
       "    <tr>\n",
       "      <th>1415288</th>\n",
       "      <td>104741082.0</td>\n",
       "      <td>Sushiyaki</td>\n",
       "      <td>1</td>\n",
       "    </tr>\n",
       "    <tr>\n",
       "      <th>1415289</th>\n",
       "      <td>104741605.0</td>\n",
       "      <td>Goiko</td>\n",
       "      <td>1</td>\n",
       "    </tr>\n",
       "    <tr>\n",
       "      <th>1415290</th>\n",
       "      <td>104742241.0</td>\n",
       "      <td>Glovo Express</td>\n",
       "      <td>1</td>\n",
       "    </tr>\n",
       "    <tr>\n",
       "      <th>1415291</th>\n",
       "      <td>104742458.0</td>\n",
       "      <td>NAP</td>\n",
       "      <td>1</td>\n",
       "    </tr>\n",
       "  </tbody>\n",
       "</table>\n",
       "<p>1415292 rows × 3 columns</p>\n",
       "</div>"
      ],
      "text/plain": [
       "                  ID              Store Name  Code\n",
       "0              223.0  Enlagloria Salad House     1\n",
       "1              223.0        Feliz Pollo Last     1\n",
       "2              223.0           Glovo Express     1\n",
       "3              223.0  Miguelon Sabor Peruano     1\n",
       "4              223.0            Salad Market    11\n",
       "...              ...                     ...   ...\n",
       "1415287  104736642.0             McDonald's®     1\n",
       "1415288  104741082.0               Sushiyaki     1\n",
       "1415289  104741605.0                   Goiko     1\n",
       "1415290  104742241.0           Glovo Express     1\n",
       "1415291  104742458.0                     NAP     1\n",
       "\n",
       "[1415292 rows x 3 columns]"
      ]
     },
     "execution_count": 37,
     "metadata": {},
     "output_type": "execute_result"
    }
   ],
   "source": [
    "# \n",
    "df_orders = df1.groupby(['ID','Store Name'])['Code'].count().reset_index()\n",
    "df_orders"
   ]
  },
  {
   "cell_type": "code",
   "execution_count": 63,
   "id": "b3b9129d",
   "metadata": {},
   "outputs": [
    {
     "name": "stdout",
     "output_type": "stream",
     "text": [
      "Number of users that have more than 25 orders: 1084\n"
     ]
    }
   ],
   "source": [
    "min_orders = 25\n",
    "print(\"Number of users that have more than {} orders: {}\".format(min_orders, len(df_orders[df_orders[('Code')]>=min_orders])))"
   ]
  },
  {
   "cell_type": "code",
   "execution_count": 66,
   "id": "33b0e997",
   "metadata": {},
   "outputs": [
    {
     "data": {
      "text/html": [
       "<div>\n",
       "<style scoped>\n",
       "    .dataframe tbody tr th:only-of-type {\n",
       "        vertical-align: middle;\n",
       "    }\n",
       "\n",
       "    .dataframe tbody tr th {\n",
       "        vertical-align: top;\n",
       "    }\n",
       "\n",
       "    .dataframe thead th {\n",
       "        text-align: right;\n",
       "    }\n",
       "</style>\n",
       "<table border=\"1\" class=\"dataframe\">\n",
       "  <thead>\n",
       "    <tr style=\"text-align: right;\">\n",
       "      <th></th>\n",
       "      <th>ID</th>\n",
       "      <th>Store Name</th>\n",
       "      <th>Code</th>\n",
       "    </tr>\n",
       "  </thead>\n",
       "  <tbody>\n",
       "    <tr>\n",
       "      <th>435</th>\n",
       "      <td>10013599.0</td>\n",
       "      <td>Glovo Express</td>\n",
       "      <td>45</td>\n",
       "    </tr>\n",
       "    <tr>\n",
       "      <th>662</th>\n",
       "      <td>10020400.0</td>\n",
       "      <td>Glovo Express</td>\n",
       "      <td>38</td>\n",
       "    </tr>\n",
       "    <tr>\n",
       "      <th>728</th>\n",
       "      <td>10021791.0</td>\n",
       "      <td>Glovo Express</td>\n",
       "      <td>58</td>\n",
       "    </tr>\n",
       "    <tr>\n",
       "      <th>2775</th>\n",
       "      <td>10069769.0</td>\n",
       "      <td>Gonzalez &amp; Co</td>\n",
       "      <td>26</td>\n",
       "    </tr>\n",
       "    <tr>\n",
       "      <th>3353</th>\n",
       "      <td>1008397.0</td>\n",
       "      <td>Glovo Express</td>\n",
       "      <td>28</td>\n",
       "    </tr>\n",
       "    <tr>\n",
       "      <th>...</th>\n",
       "      <td>...</td>\n",
       "      <td>...</td>\n",
       "      <td>...</td>\n",
       "    </tr>\n",
       "    <tr>\n",
       "      <th>1407258</th>\n",
       "      <td>9752.0</td>\n",
       "      <td>McDonald's®</td>\n",
       "      <td>26</td>\n",
       "    </tr>\n",
       "    <tr>\n",
       "      <th>1407465</th>\n",
       "      <td>9756185.0</td>\n",
       "      <td>Glovo Express</td>\n",
       "      <td>34</td>\n",
       "    </tr>\n",
       "    <tr>\n",
       "      <th>1410831</th>\n",
       "      <td>9856804.0</td>\n",
       "      <td>Glovo Express</td>\n",
       "      <td>65</td>\n",
       "    </tr>\n",
       "    <tr>\n",
       "      <th>1412225</th>\n",
       "      <td>9905430.0</td>\n",
       "      <td>Glovo Express</td>\n",
       "      <td>30</td>\n",
       "    </tr>\n",
       "    <tr>\n",
       "      <th>1413779</th>\n",
       "      <td>995449.0</td>\n",
       "      <td>365 Obrador</td>\n",
       "      <td>47</td>\n",
       "    </tr>\n",
       "  </tbody>\n",
       "</table>\n",
       "<p>1084 rows × 3 columns</p>\n",
       "</div>"
      ],
      "text/plain": [
       "                 ID     Store Name  Code\n",
       "435      10013599.0  Glovo Express    45\n",
       "662      10020400.0  Glovo Express    38\n",
       "728      10021791.0  Glovo Express    58\n",
       "2775     10069769.0  Gonzalez & Co    26\n",
       "3353      1008397.0  Glovo Express    28\n",
       "...             ...            ...   ...\n",
       "1407258      9752.0    McDonald's®    26\n",
       "1407465   9756185.0  Glovo Express    34\n",
       "1410831   9856804.0  Glovo Express    65\n",
       "1412225   9905430.0  Glovo Express    30\n",
       "1413779    995449.0    365 Obrador    47\n",
       "\n",
       "[1084 rows x 3 columns]"
      ]
     },
     "execution_count": 66,
     "metadata": {},
     "output_type": "execute_result"
    }
   ],
   "source": [
    "df_min_orders = df_orders[df_orders['Code']>=25]\n",
    "df_min_orders"
   ]
  },
  {
   "cell_type": "code",
   "execution_count": 68,
   "id": "d83de133",
   "metadata": {},
   "outputs": [
    {
     "data": {
      "text/plain": [
       "Glovo Express                    441\n",
       "McDonald's®                      207\n",
       "Honest Greens                     36\n",
       "Starbucks                         25\n",
       "KFC                               23\n",
       "                                ... \n",
       "Le Romane                          1\n",
       "Pollo a la leña-CAN POLLASTRE      1\n",
       "Takumi Ramen & Yakisoba            1\n",
       "Rostiseria Can Pere y Ana          1\n",
       "Frankfurt de Verdi                 1\n",
       "Name: Store Name, Length: 163, dtype: int64"
      ]
     },
     "execution_count": 68,
     "metadata": {},
     "output_type": "execute_result"
    }
   ],
   "source": [
    "df_min_orders['Store Name'].value_counts()"
   ]
  },
  {
   "cell_type": "code",
   "execution_count": 70,
   "id": "098b3825-1cd5-4916-9420-46bca8ddefb8",
   "metadata": {},
   "outputs": [
    {
     "data": {
      "text/plain": [
       "Text(0, 0.5, 'Restaurants')"
      ]
     },
     "execution_count": 70,
     "metadata": {},
     "output_type": "execute_result"
    },
    {
     "data": {
      "image/png": "[encoded data removed]",
      "text/plain": [
       "<Figure size 1080x576 with 1 Axes>"
      ]
     },
     "metadata": {},
     "output_type": "display_data"
    }
   ],
   "source": [
    "plt.figure(figsize=(15,8))\n",
    "sns.set_style(\"darkgrid\")\n",
    "sns.lineplot(data=df_min_orders[('Code')].values)\n",
    "plt.title(\"Orders frequency of Restaurants\")\n",
    "plt.xlabel(\"Number of Orders\")\n",
    "plt.ylabel(\"Restaurants\")"
   ]
  },
  {
   "cell_type": "code",
   "execution_count": 19,
   "id": "037ee925-79da-4cff-b38a-88cec82b1ff6",
   "metadata": {},
   "outputs": [],
   "source": []
  },
  {
   "cell_type": "code",
   "execution_count": 76,
   "id": "e9a499c6-1a2a-4f65-8b7c-92efe47be116",
   "metadata": {},
   "outputs": [
    {
     "data": {
      "text/plain": [
       "Store Name\n",
       " Anita Gelato                         57.0\n",
       " Meal&1 Healthy Food                  55.0\n",
       "2020 Glory's Bakery & Coffee Shop     32.0\n",
       "365 Obrador                          540.0\n",
       "4 Pokes                               27.0\n",
       "                                     ...  \n",
       "VIPS                                  28.0\n",
       "Wok Show                              26.0\n",
       "Wynwood Café                          57.0\n",
       "Yoüme Sushi                          304.0\n",
       "llaollao                              26.0\n",
       "Length: 163, dtype: float64"
      ]
     },
     "execution_count": 76,
     "metadata": {},
     "output_type": "execute_result"
    }
   ],
   "source": [
    "matrix = df_min_orders.pivot(index='ID',columns='Store Name',values='Code').sum()\n",
    "matrix"
   ]
  },
  {
   "cell_type": "code",
   "execution_count": 29,
   "id": "ea8a308b",
   "metadata": {},
   "outputs": [],
   "source": []
  },
  {
   "cell_type": "code",
   "execution_count": null,
   "id": "ff7a984e",
   "metadata": {},
   "outputs": [],
   "source": []
  },
  {
   "cell_type": "code",
   "execution_count": null,
   "id": "0b57692e",
   "metadata": {},
   "outputs": [],
   "source": []
  },
  {
   "cell_type": "code",
   "execution_count": null,
   "id": "6df4dd1e",
   "metadata": {},
   "outputs": [],
   "source": []
  },
  {
   "cell_type": "code",
   "execution_count": null,
   "id": "3a1cd44c-bdf8-43a2-8eb2-a17bf7457025",
   "metadata": {},
   "outputs": [],
   "source": []
  },
  {
   "cell_type": "code",
   "execution_count": null,
   "id": "28640f8a-8ffb-46f4-8c95-f59de72da666",
   "metadata": {},
   "outputs": [],
   "source": []
  },
  {
   "cell_type": "code",
   "execution_count": null,
   "id": "40fcde12-cf8c-4dbd-bfcb-d45a3547fe7d",
   "metadata": {},
   "outputs": [],
   "source": []
  },
  {
   "cell_type": "code",
   "execution_count": null,
   "id": "63a82eeb-ddc0-4c02-a859-473f04ed7ca7",
   "metadata": {},
   "outputs": [],
   "source": [
    "person_u = list(sort(frame.df1['ID'].unique()))\n",
    "thing_u = list(sort(frame.df1['Store Name'].unique()))\n",
    "data = frame['count'].tolist()\n",
    "row = frame.person.astype('category', categories=person_u).cat.codes\n",
    "col = frame.thing.astype('category', categories=thing_u).cat.codes\n",
    "sparse_matrix = csr_matrix((data, (row, col)), shape=(len(person_u), len(thing_u)))"
   ]
  },
  {
   "cell_type": "code",
   "execution_count": null,
   "id": "b1661ea4-4fe3-487f-81ea-2669ea9ce72a",
   "metadata": {},
   "outputs": [],
   "source": []
  }
 ],
 "metadata": {
  "kernelspec": {
   "display_name": "Python 3 (ipykernel)",
   "language": "python",
   "name": "python3"
  },
  "language_info": {
   "codemirror_mode": {
    "name": "ipython",
    "version": 3
   },
   "file_extension": ".py",
   "mimetype": "text/x-python",
   "name": "python",
   "nbconvert_exporter": "python",
   "pygments_lexer": "ipython3",
   "version": "3.9.7"
  }
 },
 "nbformat": 4,
 "nbformat_minor": 5
}
