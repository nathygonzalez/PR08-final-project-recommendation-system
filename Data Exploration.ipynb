{
 "cells": [
  {
   "cell_type": "markdown",
   "id": "d1d36523",
   "metadata": {},
   "source": [
    "# Import Libraries"
   ]
  },
  {
   "cell_type": "code",
   "execution_count": 33,
   "id": "e3b49b97",
   "metadata": {},
   "outputs": [],
   "source": [
    "import pandas as pd\n",
    "import numpy as np\n",
    "import matplotlib.pyplot as plt\n",
    "import seaborn as sns\n",
    "import warnings\n",
    "from sklearn.metrics.pairwise import cosine_similarity"
   ]
  },
  {
   "cell_type": "code",
   "execution_count": 23,
   "id": "f87aa25b-eabb-40a1-8633-378676dcf2de",
   "metadata": {},
   "outputs": [],
   "source": [
    "from scipy.sparse import csr_matrix"
   ]
  },
  {
   "cell_type": "code",
   "execution_count": 4,
   "id": "8d1c4ad5",
   "metadata": {},
   "outputs": [],
   "source": [
    "warnings.filterwarnings(\"ignore\")"
   ]
  },
  {
   "cell_type": "markdown",
   "id": "b4ff573c",
   "metadata": {},
   "source": [
    "# Dataset"
   ]
  },
  {
   "cell_type": "code",
   "execution_count": null,
   "id": "6ba29156",
   "metadata": {},
   "outputs": [],
   "source": [
    "# Original Dataset load (266MB) - 6 months long Glovo orders in BCN from Jul 1st to Dec 31st 2021"
   ]
  },
  {
   "cell_type": "code",
   "execution_count": 5,
   "id": "304ca016",
   "metadata": {},
   "outputs": [],
   "source": [
    "df = pd.read_csv ('data/orders 2022-03-05T1431.csv')"
   ]
  },
  {
   "cell_type": "code",
   "execution_count": 24,
   "id": "efa25a51",
   "metadata": {},
   "outputs": [
    {
     "data": {
      "text/plain": [
       "(2460001, 15)"
      ]
     },
     "execution_count": 24,
     "metadata": {},
     "output_type": "execute_result"
    }
   ],
   "source": [
    "df.shape"
   ]
  },
  {
   "cell_type": "code",
   "execution_count": 25,
   "id": "6cd22ec2",
   "metadata": {},
   "outputs": [
    {
     "data": {
      "text/html": [
       "<div>\n",
       "<style scoped>\n",
       "    .dataframe tbody tr th:only-of-type {\n",
       "        vertical-align: middle;\n",
       "    }\n",
       "\n",
       "    .dataframe tbody tr th {\n",
       "        vertical-align: top;\n",
       "    }\n",
       "\n",
       "    .dataframe thead th {\n",
       "        text-align: right;\n",
       "    }\n",
       "</style>\n",
       "<table border=\"1\" class=\"dataframe\">\n",
       "  <thead>\n",
       "    <tr style=\"text-align: right;\">\n",
       "      <th></th>\n",
       "      <th>Unnamed: 0</th>\n",
       "      <th>Code</th>\n",
       "      <th>Store Name</th>\n",
       "      <th>Store ID</th>\n",
       "      <th>Termination Local Date</th>\n",
       "      <th>Termination Local Time</th>\n",
       "      <th>Total Purchase</th>\n",
       "      <th>ID</th>\n",
       "      <th>Registration Age Range</th>\n",
       "      <th>Made More Than One Order (Yes / No)</th>\n",
       "      <th>Last Order Date</th>\n",
       "      <th>Staff (Yes / No)</th>\n",
       "      <th>Top Fifty (Yes / No)</th>\n",
       "      <th>Rating Store Service</th>\n",
       "      <th>Positive Store Service (Yes / No)</th>\n",
       "    </tr>\n",
       "  </thead>\n",
       "  <tbody>\n",
       "    <tr>\n",
       "      <th>0</th>\n",
       "      <td>1</td>\n",
       "      <td>B3JKGPPT</td>\n",
       "      <td>Five Guys</td>\n",
       "      <td>223524.0</td>\n",
       "      <td>2021-12-30</td>\n",
       "      <td>2021-12-30 12:59:24</td>\n",
       "      <td>11.5</td>\n",
       "      <td>861650.0</td>\n",
       "      <td>NaN</td>\n",
       "      <td>Yes</td>\n",
       "      <td>2021-12-30</td>\n",
       "      <td>No</td>\n",
       "      <td>No</td>\n",
       "      <td>Missing</td>\n",
       "      <td>No</td>\n",
       "    </tr>\n",
       "    <tr>\n",
       "      <th>1</th>\n",
       "      <td>2</td>\n",
       "      <td>BBRACYGD</td>\n",
       "      <td>Parking Pizza</td>\n",
       "      <td>1419.0</td>\n",
       "      <td>2021-12-30</td>\n",
       "      <td>2021-12-30 13:25:22</td>\n",
       "      <td>14.0</td>\n",
       "      <td>444732.0</td>\n",
       "      <td>NaN</td>\n",
       "      <td>Yes</td>\n",
       "      <td>2022-03-04</td>\n",
       "      <td>No</td>\n",
       "      <td>Yes</td>\n",
       "      <td>Positive</td>\n",
       "      <td>Yes</td>\n",
       "    </tr>\n",
       "    <tr>\n",
       "      <th>2</th>\n",
       "      <td>3</td>\n",
       "      <td>BSMP18DY</td>\n",
       "      <td>Crep Nova</td>\n",
       "      <td>97780.0</td>\n",
       "      <td>2021-12-30</td>\n",
       "      <td>2021-12-30 21:14:14</td>\n",
       "      <td>25.6</td>\n",
       "      <td>619969.0</td>\n",
       "      <td>25.0</td>\n",
       "      <td>Yes</td>\n",
       "      <td>2022-03-02</td>\n",
       "      <td>No</td>\n",
       "      <td>Yes</td>\n",
       "      <td>Positive</td>\n",
       "      <td>Yes</td>\n",
       "    </tr>\n",
       "    <tr>\n",
       "      <th>3</th>\n",
       "      <td>4</td>\n",
       "      <td>B3EQU1C8</td>\n",
       "      <td>McDonald's®</td>\n",
       "      <td>9487.0</td>\n",
       "      <td>2021-12-30</td>\n",
       "      <td>2021-12-30 22:42:29</td>\n",
       "      <td>16.2</td>\n",
       "      <td>1784091.0</td>\n",
       "      <td>50.0</td>\n",
       "      <td>Yes</td>\n",
       "      <td>2022-02-27</td>\n",
       "      <td>No</td>\n",
       "      <td>No</td>\n",
       "      <td>Missing</td>\n",
       "      <td>No</td>\n",
       "    </tr>\n",
       "    <tr>\n",
       "      <th>4</th>\n",
       "      <td>5</td>\n",
       "      <td>BRG4B1PG</td>\n",
       "      <td>TexMex &amp; Co</td>\n",
       "      <td>2122.0</td>\n",
       "      <td>2021-12-30</td>\n",
       "      <td>2021-12-30 21:39:17</td>\n",
       "      <td>28.85</td>\n",
       "      <td>6715.0</td>\n",
       "      <td>NaN</td>\n",
       "      <td>Yes</td>\n",
       "      <td>2022-01-23</td>\n",
       "      <td>No</td>\n",
       "      <td>No</td>\n",
       "      <td>Positive</td>\n",
       "      <td>Yes</td>\n",
       "    </tr>\n",
       "    <tr>\n",
       "      <th>...</th>\n",
       "      <td>...</td>\n",
       "      <td>...</td>\n",
       "      <td>...</td>\n",
       "      <td>...</td>\n",
       "      <td>...</td>\n",
       "      <td>...</td>\n",
       "      <td>...</td>\n",
       "      <td>...</td>\n",
       "      <td>...</td>\n",
       "      <td>...</td>\n",
       "      <td>...</td>\n",
       "      <td>...</td>\n",
       "      <td>...</td>\n",
       "      <td>...</td>\n",
       "      <td>...</td>\n",
       "    </tr>\n",
       "    <tr>\n",
       "      <th>95</th>\n",
       "      <td>96</td>\n",
       "      <td>B1VLURKR</td>\n",
       "      <td>Metropolitan Gourmet Burgers</td>\n",
       "      <td>40961.0</td>\n",
       "      <td>2021-12-30</td>\n",
       "      <td>2021-12-30 14:04:42</td>\n",
       "      <td>71.0</td>\n",
       "      <td>9749772.0</td>\n",
       "      <td>NaN</td>\n",
       "      <td>Yes</td>\n",
       "      <td>2022-03-01</td>\n",
       "      <td>No</td>\n",
       "      <td>No</td>\n",
       "      <td>Missing</td>\n",
       "      <td>No</td>\n",
       "    </tr>\n",
       "    <tr>\n",
       "      <th>96</th>\n",
       "      <td>97</td>\n",
       "      <td>B8PLTJMW</td>\n",
       "      <td>McDonald's®</td>\n",
       "      <td>9487.0</td>\n",
       "      <td>2021-12-30</td>\n",
       "      <td>2021-12-30 21:01:11</td>\n",
       "      <td>10.5</td>\n",
       "      <td>58048.0</td>\n",
       "      <td>NaN</td>\n",
       "      <td>Yes</td>\n",
       "      <td>2022-03-04</td>\n",
       "      <td>No</td>\n",
       "      <td>No</td>\n",
       "      <td>Positive</td>\n",
       "      <td>Yes</td>\n",
       "    </tr>\n",
       "    <tr>\n",
       "      <th>97</th>\n",
       "      <td>98</td>\n",
       "      <td>BVWZGWJC</td>\n",
       "      <td>Envols-Poké Bowls</td>\n",
       "      <td>118386.0</td>\n",
       "      <td>2021-12-30</td>\n",
       "      <td>2021-12-30 13:34:50</td>\n",
       "      <td>13.65</td>\n",
       "      <td>100490.0</td>\n",
       "      <td>NaN</td>\n",
       "      <td>Yes</td>\n",
       "      <td>2022-03-04</td>\n",
       "      <td>No</td>\n",
       "      <td>No</td>\n",
       "      <td>Positive</td>\n",
       "      <td>Yes</td>\n",
       "    </tr>\n",
       "    <tr>\n",
       "      <th>98</th>\n",
       "      <td>99</td>\n",
       "      <td>BL1LL1U5</td>\n",
       "      <td>Bonrollo</td>\n",
       "      <td>3116.0</td>\n",
       "      <td>2021-12-30</td>\n",
       "      <td>2021-12-30 21:15:34</td>\n",
       "      <td>9.5</td>\n",
       "      <td>19691738.0</td>\n",
       "      <td>NaN</td>\n",
       "      <td>Yes</td>\n",
       "      <td>2022-02-28</td>\n",
       "      <td>No</td>\n",
       "      <td>No</td>\n",
       "      <td>Missing</td>\n",
       "      <td>No</td>\n",
       "    </tr>\n",
       "    <tr>\n",
       "      <th>99</th>\n",
       "      <td>100</td>\n",
       "      <td>BLACLTHH</td>\n",
       "      <td>McDonald's®</td>\n",
       "      <td>9487.0</td>\n",
       "      <td>2021-12-30</td>\n",
       "      <td>2021-12-30 21:55:26</td>\n",
       "      <td>39.35</td>\n",
       "      <td>1253141.0</td>\n",
       "      <td>NaN</td>\n",
       "      <td>Yes</td>\n",
       "      <td>2022-03-04</td>\n",
       "      <td>No</td>\n",
       "      <td>No</td>\n",
       "      <td>Missing</td>\n",
       "      <td>No</td>\n",
       "    </tr>\n",
       "  </tbody>\n",
       "</table>\n",
       "<p>100 rows × 15 columns</p>\n",
       "</div>"
      ],
      "text/plain": [
       "   Unnamed: 0      Code                    Store Name  Store ID  \\\n",
       "0           1  B3JKGPPT                     Five Guys  223524.0   \n",
       "1           2  BBRACYGD                 Parking Pizza    1419.0   \n",
       "2           3  BSMP18DY                     Crep Nova   97780.0   \n",
       "3           4  B3EQU1C8                   McDonald's®    9487.0   \n",
       "4           5  BRG4B1PG                   TexMex & Co    2122.0   \n",
       "..        ...       ...                           ...       ...   \n",
       "95         96  B1VLURKR  Metropolitan Gourmet Burgers   40961.0   \n",
       "96         97  B8PLTJMW                   McDonald's®    9487.0   \n",
       "97         98  BVWZGWJC             Envols-Poké Bowls  118386.0   \n",
       "98         99  BL1LL1U5                      Bonrollo    3116.0   \n",
       "99        100  BLACLTHH                   McDonald's®    9487.0   \n",
       "\n",
       "   Termination Local Date Termination Local Time Total Purchase          ID  \\\n",
       "0              2021-12-30    2021-12-30 12:59:24           11.5    861650.0   \n",
       "1              2021-12-30    2021-12-30 13:25:22           14.0    444732.0   \n",
       "2              2021-12-30    2021-12-30 21:14:14           25.6    619969.0   \n",
       "3              2021-12-30    2021-12-30 22:42:29           16.2   1784091.0   \n",
       "4              2021-12-30    2021-12-30 21:39:17          28.85      6715.0   \n",
       "..                    ...                    ...            ...         ...   \n",
       "95             2021-12-30    2021-12-30 14:04:42           71.0   9749772.0   \n",
       "96             2021-12-30    2021-12-30 21:01:11           10.5     58048.0   \n",
       "97             2021-12-30    2021-12-30 13:34:50          13.65    100490.0   \n",
       "98             2021-12-30    2021-12-30 21:15:34            9.5  19691738.0   \n",
       "99             2021-12-30    2021-12-30 21:55:26          39.35   1253141.0   \n",
       "\n",
       "    Registration Age Range Made More Than One Order (Yes / No)  \\\n",
       "0                      NaN                                 Yes   \n",
       "1                      NaN                                 Yes   \n",
       "2                     25.0                                 Yes   \n",
       "3                     50.0                                 Yes   \n",
       "4                      NaN                                 Yes   \n",
       "..                     ...                                 ...   \n",
       "95                     NaN                                 Yes   \n",
       "96                     NaN                                 Yes   \n",
       "97                     NaN                                 Yes   \n",
       "98                     NaN                                 Yes   \n",
       "99                     NaN                                 Yes   \n",
       "\n",
       "   Last Order Date Staff (Yes / No) Top Fifty (Yes / No) Rating Store Service  \\\n",
       "0       2021-12-30               No                   No              Missing   \n",
       "1       2022-03-04               No                  Yes             Positive   \n",
       "2       2022-03-02               No                  Yes             Positive   \n",
       "3       2022-02-27               No                   No              Missing   \n",
       "4       2022-01-23               No                   No             Positive   \n",
       "..             ...              ...                  ...                  ...   \n",
       "95      2022-03-01               No                   No              Missing   \n",
       "96      2022-03-04               No                   No             Positive   \n",
       "97      2022-03-04               No                   No             Positive   \n",
       "98      2022-02-28               No                   No              Missing   \n",
       "99      2022-03-04               No                   No              Missing   \n",
       "\n",
       "   Positive Store Service (Yes / No)  \n",
       "0                                 No  \n",
       "1                                Yes  \n",
       "2                                Yes  \n",
       "3                                 No  \n",
       "4                                Yes  \n",
       "..                               ...  \n",
       "95                                No  \n",
       "96                               Yes  \n",
       "97                               Yes  \n",
       "98                                No  \n",
       "99                                No  \n",
       "\n",
       "[100 rows x 15 columns]"
      ]
     },
     "execution_count": 25,
     "metadata": {},
     "output_type": "execute_result"
    }
   ],
   "source": [
    "df.head(100)"
   ]
  },
  {
   "cell_type": "code",
   "execution_count": 26,
   "id": "c189e648",
   "metadata": {},
   "outputs": [
    {
     "name": "stdout",
     "output_type": "stream",
     "text": [
      "<class 'pandas.core.frame.DataFrame'>\n",
      "RangeIndex: 2460001 entries, 0 to 2460000\n",
      "Data columns (total 15 columns):\n",
      " #   Column                               Dtype  \n",
      "---  ------                               -----  \n",
      " 0   Unnamed: 0                           object \n",
      " 1   Code                                 object \n",
      " 2   Store Name                           object \n",
      " 3   Store ID                             float64\n",
      " 4   Termination Local Date               object \n",
      " 5   Termination Local Time               object \n",
      " 6   Total Purchase                       object \n",
      " 7   ID                                   float64\n",
      " 8   Registration Age Range               float64\n",
      " 9   Made More Than One Order (Yes / No)  object \n",
      " 10  Last Order Date                      object \n",
      " 11  Staff (Yes / No)                     object \n",
      " 12  Top Fifty (Yes / No)                 object \n",
      " 13  Rating Store Service                 object \n",
      " 14  Positive Store Service (Yes / No)    object \n",
      "dtypes: float64(3), object(12)\n",
      "memory usage: 281.5+ MB\n"
     ]
    }
   ],
   "source": [
    "df.info()"
   ]
  },
  {
   "cell_type": "code",
   "execution_count": 6,
   "id": "03483bf4",
   "metadata": {},
   "outputs": [
    {
     "data": {
      "text/plain": [
       "Unnamed: 0                                   0\n",
       "Code                                         1\n",
       "Store Name                                   1\n",
       "Store ID                                     1\n",
       "Termination Local Date                       1\n",
       "Termination Local Time                       1\n",
       "Total Purchase                               1\n",
       "ID                                           1\n",
       "Registration Age Range                 2004561\n",
       "Made More Than One Order (Yes / No)          1\n",
       "Last Order Date                             63\n",
       "Staff (Yes / No)                             1\n",
       "Top Fifty (Yes / No)                         1\n",
       "Rating Store Service                         1\n",
       "Positive Store Service (Yes / No)            1\n",
       "dtype: int64"
      ]
     },
     "execution_count": 6,
     "metadata": {},
     "output_type": "execute_result"
    }
   ],
   "source": [
    "# Identificando NAs\n",
    "df.isna().sum()"
   ]
  },
  {
   "cell_type": "code",
   "execution_count": 35,
   "id": "0cf26cb7",
   "metadata": {},
   "outputs": [
    {
     "data": {
      "text/html": [
       "<div>\n",
       "<style scoped>\n",
       "    .dataframe tbody tr th:only-of-type {\n",
       "        vertical-align: middle;\n",
       "    }\n",
       "\n",
       "    .dataframe tbody tr th {\n",
       "        vertical-align: top;\n",
       "    }\n",
       "\n",
       "    .dataframe thead th {\n",
       "        text-align: right;\n",
       "    }\n",
       "</style>\n",
       "<table border=\"1\" class=\"dataframe\">\n",
       "  <thead>\n",
       "    <tr style=\"text-align: right;\">\n",
       "      <th></th>\n",
       "      <th>Unnamed: 0</th>\n",
       "      <th>Code</th>\n",
       "      <th>Store Name</th>\n",
       "      <th>Store ID</th>\n",
       "      <th>Termination Local Date</th>\n",
       "      <th>Termination Local Time</th>\n",
       "      <th>Total Purchase</th>\n",
       "      <th>ID</th>\n",
       "      <th>Made More Than One Order (Yes / No)</th>\n",
       "      <th>Last Order Date</th>\n",
       "      <th>Staff (Yes / No)</th>\n",
       "      <th>Top Fifty (Yes / No)</th>\n",
       "      <th>Rating Store Service</th>\n",
       "      <th>Positive Store Service (Yes / No)</th>\n",
       "    </tr>\n",
       "  </thead>\n",
       "  <tbody>\n",
       "    <tr>\n",
       "      <th>0</th>\n",
       "      <td>False</td>\n",
       "      <td>False</td>\n",
       "      <td>False</td>\n",
       "      <td>False</td>\n",
       "      <td>False</td>\n",
       "      <td>False</td>\n",
       "      <td>False</td>\n",
       "      <td>False</td>\n",
       "      <td>False</td>\n",
       "      <td>False</td>\n",
       "      <td>False</td>\n",
       "      <td>False</td>\n",
       "      <td>False</td>\n",
       "      <td>False</td>\n",
       "    </tr>\n",
       "    <tr>\n",
       "      <th>1</th>\n",
       "      <td>False</td>\n",
       "      <td>False</td>\n",
       "      <td>False</td>\n",
       "      <td>False</td>\n",
       "      <td>False</td>\n",
       "      <td>False</td>\n",
       "      <td>False</td>\n",
       "      <td>False</td>\n",
       "      <td>False</td>\n",
       "      <td>False</td>\n",
       "      <td>False</td>\n",
       "      <td>False</td>\n",
       "      <td>False</td>\n",
       "      <td>False</td>\n",
       "    </tr>\n",
       "    <tr>\n",
       "      <th>2</th>\n",
       "      <td>False</td>\n",
       "      <td>False</td>\n",
       "      <td>False</td>\n",
       "      <td>False</td>\n",
       "      <td>False</td>\n",
       "      <td>False</td>\n",
       "      <td>False</td>\n",
       "      <td>False</td>\n",
       "      <td>False</td>\n",
       "      <td>False</td>\n",
       "      <td>False</td>\n",
       "      <td>False</td>\n",
       "      <td>False</td>\n",
       "      <td>False</td>\n",
       "    </tr>\n",
       "    <tr>\n",
       "      <th>3</th>\n",
       "      <td>False</td>\n",
       "      <td>False</td>\n",
       "      <td>False</td>\n",
       "      <td>False</td>\n",
       "      <td>False</td>\n",
       "      <td>False</td>\n",
       "      <td>False</td>\n",
       "      <td>False</td>\n",
       "      <td>False</td>\n",
       "      <td>False</td>\n",
       "      <td>False</td>\n",
       "      <td>False</td>\n",
       "      <td>False</td>\n",
       "      <td>False</td>\n",
       "    </tr>\n",
       "    <tr>\n",
       "      <th>4</th>\n",
       "      <td>False</td>\n",
       "      <td>False</td>\n",
       "      <td>False</td>\n",
       "      <td>False</td>\n",
       "      <td>False</td>\n",
       "      <td>False</td>\n",
       "      <td>False</td>\n",
       "      <td>False</td>\n",
       "      <td>False</td>\n",
       "      <td>False</td>\n",
       "      <td>False</td>\n",
       "      <td>False</td>\n",
       "      <td>False</td>\n",
       "      <td>False</td>\n",
       "    </tr>\n",
       "    <tr>\n",
       "      <th>...</th>\n",
       "      <td>...</td>\n",
       "      <td>...</td>\n",
       "      <td>...</td>\n",
       "      <td>...</td>\n",
       "      <td>...</td>\n",
       "      <td>...</td>\n",
       "      <td>...</td>\n",
       "      <td>...</td>\n",
       "      <td>...</td>\n",
       "      <td>...</td>\n",
       "      <td>...</td>\n",
       "      <td>...</td>\n",
       "      <td>...</td>\n",
       "      <td>...</td>\n",
       "    </tr>\n",
       "    <tr>\n",
       "      <th>2459996</th>\n",
       "      <td>False</td>\n",
       "      <td>False</td>\n",
       "      <td>False</td>\n",
       "      <td>False</td>\n",
       "      <td>False</td>\n",
       "      <td>False</td>\n",
       "      <td>False</td>\n",
       "      <td>False</td>\n",
       "      <td>False</td>\n",
       "      <td>False</td>\n",
       "      <td>False</td>\n",
       "      <td>False</td>\n",
       "      <td>False</td>\n",
       "      <td>False</td>\n",
       "    </tr>\n",
       "    <tr>\n",
       "      <th>2459997</th>\n",
       "      <td>False</td>\n",
       "      <td>False</td>\n",
       "      <td>False</td>\n",
       "      <td>False</td>\n",
       "      <td>False</td>\n",
       "      <td>False</td>\n",
       "      <td>False</td>\n",
       "      <td>False</td>\n",
       "      <td>False</td>\n",
       "      <td>False</td>\n",
       "      <td>False</td>\n",
       "      <td>False</td>\n",
       "      <td>False</td>\n",
       "      <td>False</td>\n",
       "    </tr>\n",
       "    <tr>\n",
       "      <th>2459998</th>\n",
       "      <td>False</td>\n",
       "      <td>False</td>\n",
       "      <td>False</td>\n",
       "      <td>False</td>\n",
       "      <td>False</td>\n",
       "      <td>False</td>\n",
       "      <td>False</td>\n",
       "      <td>False</td>\n",
       "      <td>False</td>\n",
       "      <td>False</td>\n",
       "      <td>False</td>\n",
       "      <td>False</td>\n",
       "      <td>False</td>\n",
       "      <td>False</td>\n",
       "    </tr>\n",
       "    <tr>\n",
       "      <th>2459999</th>\n",
       "      <td>False</td>\n",
       "      <td>False</td>\n",
       "      <td>False</td>\n",
       "      <td>False</td>\n",
       "      <td>False</td>\n",
       "      <td>False</td>\n",
       "      <td>False</td>\n",
       "      <td>False</td>\n",
       "      <td>False</td>\n",
       "      <td>False</td>\n",
       "      <td>False</td>\n",
       "      <td>False</td>\n",
       "      <td>False</td>\n",
       "      <td>False</td>\n",
       "    </tr>\n",
       "    <tr>\n",
       "      <th>2460000</th>\n",
       "      <td>False</td>\n",
       "      <td>True</td>\n",
       "      <td>True</td>\n",
       "      <td>True</td>\n",
       "      <td>True</td>\n",
       "      <td>True</td>\n",
       "      <td>True</td>\n",
       "      <td>True</td>\n",
       "      <td>True</td>\n",
       "      <td>True</td>\n",
       "      <td>True</td>\n",
       "      <td>True</td>\n",
       "      <td>True</td>\n",
       "      <td>True</td>\n",
       "    </tr>\n",
       "  </tbody>\n",
       "</table>\n",
       "<p>2460001 rows × 14 columns</p>\n",
       "</div>"
      ],
      "text/plain": [
       "         Unnamed: 0   Code  Store Name  Store ID  Termination Local Date  \\\n",
       "0             False  False       False     False                   False   \n",
       "1             False  False       False     False                   False   \n",
       "2             False  False       False     False                   False   \n",
       "3             False  False       False     False                   False   \n",
       "4             False  False       False     False                   False   \n",
       "...             ...    ...         ...       ...                     ...   \n",
       "2459996       False  False       False     False                   False   \n",
       "2459997       False  False       False     False                   False   \n",
       "2459998       False  False       False     False                   False   \n",
       "2459999       False  False       False     False                   False   \n",
       "2460000       False   True        True      True                    True   \n",
       "\n",
       "         Termination Local Time  Total Purchase     ID  \\\n",
       "0                         False           False  False   \n",
       "1                         False           False  False   \n",
       "2                         False           False  False   \n",
       "3                         False           False  False   \n",
       "4                         False           False  False   \n",
       "...                         ...             ...    ...   \n",
       "2459996                   False           False  False   \n",
       "2459997                   False           False  False   \n",
       "2459998                   False           False  False   \n",
       "2459999                   False           False  False   \n",
       "2460000                    True            True   True   \n",
       "\n",
       "         Made More Than One Order (Yes / No)  Last Order Date  \\\n",
       "0                                      False            False   \n",
       "1                                      False            False   \n",
       "2                                      False            False   \n",
       "3                                      False            False   \n",
       "4                                      False            False   \n",
       "...                                      ...              ...   \n",
       "2459996                                False            False   \n",
       "2459997                                False            False   \n",
       "2459998                                False            False   \n",
       "2459999                                False            False   \n",
       "2460000                                 True             True   \n",
       "\n",
       "         Staff (Yes / No)  Top Fifty (Yes / No)  Rating Store Service  \\\n",
       "0                   False                 False                 False   \n",
       "1                   False                 False                 False   \n",
       "2                   False                 False                 False   \n",
       "3                   False                 False                 False   \n",
       "4                   False                 False                 False   \n",
       "...                   ...                   ...                   ...   \n",
       "2459996             False                 False                 False   \n",
       "2459997             False                 False                 False   \n",
       "2459998             False                 False                 False   \n",
       "2459999             False                 False                 False   \n",
       "2460000              True                  True                  True   \n",
       "\n",
       "         Positive Store Service (Yes / No)  \n",
       "0                                    False  \n",
       "1                                    False  \n",
       "2                                    False  \n",
       "3                                    False  \n",
       "4                                    False  \n",
       "...                                    ...  \n",
       "2459996                              False  \n",
       "2459997                              False  \n",
       "2459998                              False  \n",
       "2459999                              False  \n",
       "2460000                               True  \n",
       "\n",
       "[2460001 rows x 14 columns]"
      ]
     },
     "execution_count": 35,
     "metadata": {},
     "output_type": "execute_result"
    }
   ],
   "source": [
    "# Identifying row with NAs\n",
    "df.drop('Registration Age Range',axis=1).isna()==True"
   ]
  },
  {
   "cell_type": "code",
   "execution_count": 29,
   "id": "8bab863b",
   "metadata": {},
   "outputs": [
    {
     "data": {
      "text/plain": [
       "Unnamed: 0                             SQL Error: ERROR: Query (77073085) cancelled b...\n",
       "Code                                                                                 NaN\n",
       "Store Name                                                                           NaN\n",
       "Store ID                                                                             NaN\n",
       "Termination Local Date                                                               NaN\n",
       "Termination Local Time                                                               NaN\n",
       "Total Purchase                                                                       NaN\n",
       "ID                                                                                   NaN\n",
       "Registration Age Range                                                               NaN\n",
       "Made More Than One Order (Yes / No)                                                  NaN\n",
       "Last Order Date                                                                      NaN\n",
       "Staff (Yes / No)                                                                     NaN\n",
       "Top Fifty (Yes / No)                                                                 NaN\n",
       "Rating Store Service                                                                 NaN\n",
       "Positive Store Service (Yes / No)                                                    NaN\n",
       "Name: 2460000, dtype: object"
      ]
     },
     "execution_count": 29,
     "metadata": {},
     "output_type": "execute_result"
    }
   ],
   "source": [
    "# Identified row 2460000 as all NAs\n",
    "df.loc[2460000]"
   ]
  },
  {
   "cell_type": "code",
   "execution_count": 7,
   "id": "9183c0c5",
   "metadata": {},
   "outputs": [],
   "source": [
    "# I'm droping this one row as it's only one over 2M\n",
    "df.drop([2460000], axis=0, inplace=True)"
   ]
  },
  {
   "cell_type": "code",
   "execution_count": 8,
   "id": "7f2199f2",
   "metadata": {},
   "outputs": [
    {
     "data": {
      "text/plain": [
       "Unnamed: 0                                   0\n",
       "Code                                         0\n",
       "Store Name                                   0\n",
       "Store ID                                     0\n",
       "Termination Local Date                       0\n",
       "Termination Local Time                       0\n",
       "Total Purchase                               0\n",
       "ID                                           0\n",
       "Registration Age Range                 2004560\n",
       "Made More Than One Order (Yes / No)          0\n",
       "Last Order Date                             62\n",
       "Staff (Yes / No)                             0\n",
       "Top Fifty (Yes / No)                         0\n",
       "Rating Store Service                         0\n",
       "Positive Store Service (Yes / No)            0\n",
       "dtype: int64"
      ]
     },
     "execution_count": 8,
     "metadata": {},
     "output_type": "execute_result"
    }
   ],
   "source": [
    "# Counterproof of NAs\n",
    "df.isna().sum()"
   ]
  },
  {
   "cell_type": "code",
   "execution_count": 38,
   "id": "840d2b9e",
   "metadata": {},
   "outputs": [
    {
     "data": {
      "text/plain": [
       "30.0     141758\n",
       "25.0     119350\n",
       "35.0      87945\n",
       "40.0      47185\n",
       "45.0      23206\n",
       "20.0      17861\n",
       "50.0       9899\n",
       "55.0       3748\n",
       "60.0       1538\n",
       "115.0       608\n",
       "105.0       567\n",
       "65.0        559\n",
       "70.0        360\n",
       "110.0       221\n",
       "100.0       164\n",
       "75.0        150\n",
       "90.0        138\n",
       "15.0         74\n",
       "95.0         39\n",
       "80.0         36\n",
       "85.0         34\n",
       "Name: Registration Age Range, dtype: int64"
      ]
     },
     "execution_count": 38,
     "metadata": {},
     "output_type": "execute_result"
    }
   ],
   "source": [
    "#Checking information regarding Age Range\n",
    "df['Registration Age Range'].value_counts()"
   ]
  },
  {
   "cell_type": "code",
   "execution_count": 39,
   "id": "496224c9",
   "metadata": {},
   "outputs": [
    {
     "data": {
      "text/plain": [
       "No     1484266\n",
       "Yes     975734\n",
       "Name: Positive Store Service (Yes / No), dtype: int64"
      ]
     },
     "execution_count": 39,
     "metadata": {},
     "output_type": "execute_result"
    }
   ],
   "source": [
    "df['Positive Store Service (Yes / No)'].value_counts()"
   ]
  },
  {
   "cell_type": "code",
   "execution_count": null,
   "id": "6feff323",
   "metadata": {},
   "outputs": [],
   "source": [
    "# Creation of a smaller dataset"
   ]
  },
  {
   "cell_type": "code",
   "execution_count": 40,
   "id": "6033a00b",
   "metadata": {},
   "outputs": [],
   "source": [
    "df1 = df[['Code','Store Name','ID','Positive Store Service (Yes / No)']]"
   ]
  },
  {
   "cell_type": "code",
   "execution_count": 41,
   "id": "62e6df11",
   "metadata": {},
   "outputs": [],
   "source": [
    "df1.to_csv('data\\df_matrix.csv',index=False)"
   ]
  },
  {
   "cell_type": "code",
   "execution_count": 58,
   "id": "15076e42-416b-4137-a361-b0feb053f7ed",
   "metadata": {},
   "outputs": [],
   "source": [
    "# TIRAR ESSA LINHA DEPOIS!!!!!!!!!!!!!\n",
    "df1 = pd.read_csv ('data/df_matrix.csv')"
   ]
  },
  {
   "cell_type": "code",
   "execution_count": 10,
   "id": "839af5ab",
   "metadata": {},
   "outputs": [
    {
     "data": {
      "text/plain": [
       "(2460000, 4)"
      ]
     },
     "execution_count": 10,
     "metadata": {},
     "output_type": "execute_result"
    }
   ],
   "source": [
    "df1.shape"
   ]
  },
  {
   "cell_type": "markdown",
   "id": "473d68f0",
   "metadata": {},
   "source": [
    "# Matrix Dataset"
   ]
  },
  {
   "cell_type": "code",
   "execution_count": 44,
   "id": "73391dac",
   "metadata": {},
   "outputs": [
    {
     "data": {
      "text/html": [
       "<div>\n",
       "<style scoped>\n",
       "    .dataframe tbody tr th:only-of-type {\n",
       "        vertical-align: middle;\n",
       "    }\n",
       "\n",
       "    .dataframe tbody tr th {\n",
       "        vertical-align: top;\n",
       "    }\n",
       "\n",
       "    .dataframe thead th {\n",
       "        text-align: right;\n",
       "    }\n",
       "</style>\n",
       "<table border=\"1\" class=\"dataframe\">\n",
       "  <thead>\n",
       "    <tr style=\"text-align: right;\">\n",
       "      <th></th>\n",
       "      <th>Code</th>\n",
       "      <th>Store Name</th>\n",
       "      <th>ID</th>\n",
       "      <th>Positive Store Service (Yes / No)</th>\n",
       "    </tr>\n",
       "  </thead>\n",
       "  <tbody>\n",
       "    <tr>\n",
       "      <th>0</th>\n",
       "      <td>B3JKGPPT</td>\n",
       "      <td>Five Guys</td>\n",
       "      <td>861650.0</td>\n",
       "      <td>No</td>\n",
       "    </tr>\n",
       "    <tr>\n",
       "      <th>1</th>\n",
       "      <td>BBRACYGD</td>\n",
       "      <td>Parking Pizza</td>\n",
       "      <td>444732.0</td>\n",
       "      <td>Yes</td>\n",
       "    </tr>\n",
       "    <tr>\n",
       "      <th>2</th>\n",
       "      <td>BSMP18DY</td>\n",
       "      <td>Crep Nova</td>\n",
       "      <td>619969.0</td>\n",
       "      <td>Yes</td>\n",
       "    </tr>\n",
       "    <tr>\n",
       "      <th>3</th>\n",
       "      <td>B3EQU1C8</td>\n",
       "      <td>McDonald's®</td>\n",
       "      <td>1784091.0</td>\n",
       "      <td>No</td>\n",
       "    </tr>\n",
       "    <tr>\n",
       "      <th>4</th>\n",
       "      <td>BRG4B1PG</td>\n",
       "      <td>TexMex &amp; Co</td>\n",
       "      <td>6715.0</td>\n",
       "      <td>Yes</td>\n",
       "    </tr>\n",
       "    <tr>\n",
       "      <th>5</th>\n",
       "      <td>BCBA18DC</td>\n",
       "      <td>Kebab Nepolis Pizza</td>\n",
       "      <td>243807.0</td>\n",
       "      <td>No</td>\n",
       "    </tr>\n",
       "    <tr>\n",
       "      <th>6</th>\n",
       "      <td>BQM2M11H</td>\n",
       "      <td>Secrets By Farga</td>\n",
       "      <td>159806.0</td>\n",
       "      <td>Yes</td>\n",
       "    </tr>\n",
       "    <tr>\n",
       "      <th>7</th>\n",
       "      <td>B37MGPNM</td>\n",
       "      <td>VICIO</td>\n",
       "      <td>60988.0</td>\n",
       "      <td>No</td>\n",
       "    </tr>\n",
       "    <tr>\n",
       "      <th>8</th>\n",
       "      <td>BPE66S4D</td>\n",
       "      <td>McDonald's®</td>\n",
       "      <td>43750.0</td>\n",
       "      <td>No</td>\n",
       "    </tr>\n",
       "    <tr>\n",
       "      <th>9</th>\n",
       "      <td>BFVLQGAL</td>\n",
       "      <td>Yoüme Sushi</td>\n",
       "      <td>1423043.0</td>\n",
       "      <td>No</td>\n",
       "    </tr>\n",
       "  </tbody>\n",
       "</table>\n",
       "</div>"
      ],
      "text/plain": [
       "       Code           Store Name         ID Positive Store Service (Yes / No)\n",
       "0  B3JKGPPT            Five Guys   861650.0                                No\n",
       "1  BBRACYGD        Parking Pizza   444732.0                               Yes\n",
       "2  BSMP18DY            Crep Nova   619969.0                               Yes\n",
       "3  B3EQU1C8          McDonald's®  1784091.0                                No\n",
       "4  BRG4B1PG          TexMex & Co     6715.0                               Yes\n",
       "5  BCBA18DC  Kebab Nepolis Pizza   243807.0                                No\n",
       "6  BQM2M11H     Secrets By Farga   159806.0                               Yes\n",
       "7  B37MGPNM                VICIO    60988.0                                No\n",
       "8  BPE66S4D          McDonald's®    43750.0                                No\n",
       "9  BFVLQGAL          Yoüme Sushi  1423043.0                                No"
      ]
     },
     "execution_count": 44,
     "metadata": {},
     "output_type": "execute_result"
    }
   ],
   "source": [
    "df1.head(10)"
   ]
  },
  {
   "cell_type": "code",
   "execution_count": 36,
   "id": "37b1843a",
   "metadata": {},
   "outputs": [
    {
     "data": {
      "text/plain": [
       "Code                                 0\n",
       "Store Name                           0\n",
       "ID                                   0\n",
       "Positive Store Service (Yes / No)    0\n",
       "dtype: int64"
      ]
     },
     "execution_count": 36,
     "metadata": {},
     "output_type": "execute_result"
    }
   ],
   "source": [
    "# Checking for NAs\n",
    "df1.isna().sum()"
   ]
  },
  {
   "cell_type": "code",
   "execution_count": 46,
   "id": "f16555af",
   "metadata": {},
   "outputs": [
    {
     "name": "stdout",
     "output_type": "stream",
     "text": [
      "<class 'pandas.core.frame.DataFrame'>\n",
      "Int64Index: 2460000 entries, 0 to 2459999\n",
      "Data columns (total 4 columns):\n",
      " #   Column                             Dtype  \n",
      "---  ------                             -----  \n",
      " 0   Code                               object \n",
      " 1   Store Name                         object \n",
      " 2   ID                                 float64\n",
      " 3   Positive Store Service (Yes / No)  object \n",
      "dtypes: float64(1), object(3)\n",
      "memory usage: 93.8+ MB\n"
     ]
    }
   ],
   "source": [
    "df1.info()"
   ]
  },
  {
   "cell_type": "code",
   "execution_count": 59,
   "id": "ccbe02c9-bf85-4b20-8423-91984416ed6a",
   "metadata": {},
   "outputs": [
    {
     "data": {
      "text/plain": [
       "Text(0.5, 1.0, 'Distribution of votes')"
      ]
     },
     "execution_count": 59,
     "metadata": {},
     "output_type": "execute_result"
    },
    {
     "data": {
      "image/png": "[encoded data removed]",
      "text/plain": [
       "<Figure size 864x576 with 1 Axes>"
      ]
     },
     "metadata": {},
     "output_type": "display_data"
    }
   ],
   "source": [
    "# Visualization of the distribution of votes to check how balanced the metric is\n",
    "ratings_count = df1['Positive Store Service (Yes / No)'].value_counts()\n",
    "plt.figure(figsize=(12,8))\n",
    "ax = ratings_count.plot.bar()\n",
    "ax.set_xlabel(\"Rating\")\n",
    "ax.set_ylabel(\"Number of votes\");\n",
    "ax.set_title(\"Distribution of votes\")"
   ]
  },
  {
   "cell_type": "code",
   "execution_count": 62,
   "id": "4dd9ead8-3ff6-4cd6-8b75-81b1855efb6e",
   "metadata": {},
   "outputs": [],
   "source": [
    "# Renaming the column\n",
    "df1.rename(columns = {'Positive Store Service (Yes / No)':'rating'}, inplace = True)"
   ]
  },
  {
   "cell_type": "code",
   "execution_count": null,
   "id": "5125b08b-6674-46c8-ace1-5b0dc322be68",
   "metadata": {},
   "outputs": [],
   "source": []
  },
  {
   "cell_type": "code",
   "execution_count": 42,
   "id": "8b25b23c-4ce8-441e-ba29-12f9002ada8c",
   "metadata": {},
   "outputs": [
    {
     "data": {
      "text/plain": [
       "Store Name\n",
       "McDonald's®                346060\n",
       "KFC                        130862\n",
       "Glovo Express              128973\n",
       "VICIO                       50244\n",
       "Goiko                       48533\n",
       "Yoüme Sushi                 48102\n",
       "Five Guys                   43300\n",
       "Gonzalez & Co               42983\n",
       "Burger King                 42002\n",
       "Honest Greens               41025\n",
       "UDON                        36477\n",
       "La Tagliatella              30121\n",
       "TGB                         23861\n",
       "Subway                      22410\n",
       "Papa John's                 21694\n",
       "Crep Nova                   19585\n",
       "Pans & Company              18865\n",
       "Sports Bar Italian Food     18778\n",
       "Carrefour                   17922\n",
       "Healthy Poke                17369\n",
       "Chalito                     15604\n",
       "Telepizza                   15295\n",
       "Taco Bell                   14677\n",
       "Secrets By Farga            13927\n",
       "Can Pizza                   13261\n",
       "NAP                         11971\n",
       "Petit Bangkok               11248\n",
       "Takumi Ramen & Yakisoba     10757\n",
       "TEIKIT Sushi Fusion         10346\n",
       "Starbucks                    9953\n",
       "Poke Sí                      9732\n",
       "Drinks                       9441\n",
       "Parking Pizza                9270\n",
       "365 Obrador                  9249\n",
       "Faborit                      9220\n",
       "Pollos Rikos                 9189\n",
       "Domino's Pizza               9087\n",
       "The Fresh Poke               9016\n",
       "Del Poble Pizzeria           8739\n",
       "Empanadas Las Muns           8428\n",
       "Juicy Avenue                 8391\n",
       "Doner Kebab El Maño          8303\n",
       "Rostissería Los Pollos       8056\n",
       "Nomomoto                     7881\n",
       "Bacoa                        7470\n",
       "La Taquería                  7462\n",
       "Tío Bigotes                  7200\n",
       "Ramen Shifu                  7094\n",
       "Dunkin'                      7065\n",
       "Poke House                   6905\n",
       "Name: ID, dtype: int64"
      ]
     },
     "execution_count": 42,
     "metadata": {},
     "output_type": "execute_result"
    }
   ],
   "source": [
    "# Top 50 stores with more Orders\n",
    "df1.groupby(['Store Name'])['ID'].count().sort_values(ascending=False).head(50)"
   ]
  },
  {
   "cell_type": "code",
   "execution_count": 22,
   "id": "59c24332-5d03-41c5-83bc-7ca697ed5d3d",
   "metadata": {},
   "outputs": [
    {
     "data": {
      "text/plain": [
       "McDonald's®                             346060\n",
       "KFC                                     130862\n",
       "Glovo Express                           128973\n",
       "VICIO                                    50244\n",
       "Goiko                                    48533\n",
       "                                         ...  \n",
       "Trieste Horta Doner Kebab y Pizzeria         1\n",
       "Café del sol                                 1\n",
       "3 Monkeys                                    1\n",
       "Golat Helados                                1\n",
       "Las Quecas                                   1\n",
       "Name: Store Name, Length: 2830, dtype: int64"
      ]
     },
     "execution_count": 22,
     "metadata": {},
     "output_type": "execute_result"
    }
   ],
   "source": [
    "# Checking how many different restaurants the dataset has: 2830 \n",
    "df1['Store Name'].value_counts()"
   ]
  },
  {
   "cell_type": "code",
   "execution_count": 64,
   "id": "ba289bfa-5318-4594-a93b-3c55004071b9",
   "metadata": {},
   "outputs": [
    {
     "data": {
      "text/html": [
       "<div>\n",
       "<style scoped>\n",
       "    .dataframe tbody tr th:only-of-type {\n",
       "        vertical-align: middle;\n",
       "    }\n",
       "\n",
       "    .dataframe tbody tr th {\n",
       "        vertical-align: top;\n",
       "    }\n",
       "\n",
       "    .dataframe thead th {\n",
       "        text-align: right;\n",
       "    }\n",
       "</style>\n",
       "<table border=\"1\" class=\"dataframe\">\n",
       "  <thead>\n",
       "    <tr style=\"text-align: right;\">\n",
       "      <th></th>\n",
       "      <th>Code</th>\n",
       "      <th>Store Name</th>\n",
       "      <th>ID</th>\n",
       "      <th>rating</th>\n",
       "    </tr>\n",
       "  </thead>\n",
       "  <tbody>\n",
       "    <tr>\n",
       "      <th>1</th>\n",
       "      <td>BBRACYGD</td>\n",
       "      <td>Parking Pizza</td>\n",
       "      <td>444732.0</td>\n",
       "      <td>Yes</td>\n",
       "    </tr>\n",
       "    <tr>\n",
       "      <th>2</th>\n",
       "      <td>BSMP18DY</td>\n",
       "      <td>Crep Nova</td>\n",
       "      <td>619969.0</td>\n",
       "      <td>Yes</td>\n",
       "    </tr>\n",
       "    <tr>\n",
       "      <th>4</th>\n",
       "      <td>BRG4B1PG</td>\n",
       "      <td>TexMex &amp; Co</td>\n",
       "      <td>6715.0</td>\n",
       "      <td>Yes</td>\n",
       "    </tr>\n",
       "    <tr>\n",
       "      <th>6</th>\n",
       "      <td>BQM2M11H</td>\n",
       "      <td>Secrets By Farga</td>\n",
       "      <td>159806.0</td>\n",
       "      <td>Yes</td>\n",
       "    </tr>\n",
       "    <tr>\n",
       "      <th>11</th>\n",
       "      <td>BH11UL14</td>\n",
       "      <td>A Pluma</td>\n",
       "      <td>1577645.0</td>\n",
       "      <td>Yes</td>\n",
       "    </tr>\n",
       "    <tr>\n",
       "      <th>...</th>\n",
       "      <td>...</td>\n",
       "      <td>...</td>\n",
       "      <td>...</td>\n",
       "      <td>...</td>\n",
       "    </tr>\n",
       "    <tr>\n",
       "      <th>2459986</th>\n",
       "      <td>BWGL3QGD</td>\n",
       "      <td>Doner Kebab El Maño</td>\n",
       "      <td>884375.0</td>\n",
       "      <td>Yes</td>\n",
       "    </tr>\n",
       "    <tr>\n",
       "      <th>2459988</th>\n",
       "      <td>BTHELYCL</td>\n",
       "      <td>Enlagloria Salad House</td>\n",
       "      <td>439060.0</td>\n",
       "      <td>Yes</td>\n",
       "    </tr>\n",
       "    <tr>\n",
       "      <th>2459992</th>\n",
       "      <td>BBAU3JCW</td>\n",
       "      <td>Gonzalez &amp; Co</td>\n",
       "      <td>545661.0</td>\n",
       "      <td>Yes</td>\n",
       "    </tr>\n",
       "    <tr>\n",
       "      <th>2459993</th>\n",
       "      <td>BM5G4EU4</td>\n",
       "      <td>Glovo Express</td>\n",
       "      <td>663784.0</td>\n",
       "      <td>Yes</td>\n",
       "    </tr>\n",
       "    <tr>\n",
       "      <th>2459996</th>\n",
       "      <td>BPPUKPHV</td>\n",
       "      <td>Glovo Express</td>\n",
       "      <td>1131523.0</td>\n",
       "      <td>Yes</td>\n",
       "    </tr>\n",
       "  </tbody>\n",
       "</table>\n",
       "<p>975734 rows × 4 columns</p>\n",
       "</div>"
      ],
      "text/plain": [
       "             Code              Store Name         ID rating\n",
       "1        BBRACYGD           Parking Pizza   444732.0    Yes\n",
       "2        BSMP18DY               Crep Nova   619969.0    Yes\n",
       "4        BRG4B1PG             TexMex & Co     6715.0    Yes\n",
       "6        BQM2M11H        Secrets By Farga   159806.0    Yes\n",
       "11       BH11UL14                 A Pluma  1577645.0    Yes\n",
       "...           ...                     ...        ...    ...\n",
       "2459986  BWGL3QGD     Doner Kebab El Maño   884375.0    Yes\n",
       "2459988  BTHELYCL  Enlagloria Salad House   439060.0    Yes\n",
       "2459992  BBAU3JCW           Gonzalez & Co   545661.0    Yes\n",
       "2459993  BM5G4EU4           Glovo Express   663784.0    Yes\n",
       "2459996  BPPUKPHV           Glovo Express  1131523.0    Yes\n",
       "\n",
       "[975734 rows x 4 columns]"
      ]
     },
     "execution_count": 64,
     "metadata": {},
     "output_type": "execute_result"
    }
   ],
   "source": [
    "# Filtering the Dataset to see only restaurants with a Positive rating\n",
    "rating_yes = df1[df1['rating']=='Yes']\n",
    "rating_yes"
   ]
  },
  {
   "cell_type": "code",
   "execution_count": 75,
   "id": "9bf881b6-c807-4cc7-9f39-4c8839bae219",
   "metadata": {},
   "outputs": [
    {
     "data": {
      "text/plain": [
       "16512967.0    193\n",
       "7993566.0     177\n",
       "49281301.0    170\n",
       "13941625.0    168\n",
       "5305519.0     158\n",
       "             ... \n",
       "14869299.0      1\n",
       "25829914.0      1\n",
       "88775656.0      1\n",
       "1708308.0       1\n",
       "47805478.0      1\n",
       "Name: ID, Length: 190372, dtype: int64"
      ]
     },
     "execution_count": 75,
     "metadata": {},
     "output_type": "execute_result"
    }
   ],
   "source": [
    "# Checking how many different users the dataset has: 190.372\n",
    "rating_yes['ID'].value_counts()"
   ]
  },
  {
   "cell_type": "code",
   "execution_count": 76,
   "id": "ac3a00b3-fe72-4ec9-96ad-f16d1441091e",
   "metadata": {},
   "outputs": [
    {
     "data": {
      "text/html": [
       "<div>\n",
       "<style scoped>\n",
       "    .dataframe tbody tr th:only-of-type {\n",
       "        vertical-align: middle;\n",
       "    }\n",
       "\n",
       "    .dataframe tbody tr th {\n",
       "        vertical-align: top;\n",
       "    }\n",
       "\n",
       "    .dataframe thead tr th {\n",
       "        text-align: left;\n",
       "    }\n",
       "\n",
       "    .dataframe thead tr:last-of-type th {\n",
       "        text-align: right;\n",
       "    }\n",
       "</style>\n",
       "<table border=\"1\" class=\"dataframe\">\n",
       "  <thead>\n",
       "    <tr>\n",
       "      <th></th>\n",
       "      <th>ID</th>\n",
       "    </tr>\n",
       "    <tr>\n",
       "      <th></th>\n",
       "      <th>count</th>\n",
       "    </tr>\n",
       "    <tr>\n",
       "      <th>Store Name</th>\n",
       "      <th></th>\n",
       "    </tr>\n",
       "  </thead>\n",
       "  <tbody>\n",
       "    <tr>\n",
       "      <th>McDonald's®</th>\n",
       "      <td>111638</td>\n",
       "    </tr>\n",
       "    <tr>\n",
       "      <th>Glovo Express</th>\n",
       "      <td>56410</td>\n",
       "    </tr>\n",
       "    <tr>\n",
       "      <th>KFC</th>\n",
       "      <td>45390</td>\n",
       "    </tr>\n",
       "    <tr>\n",
       "      <th>VICIO</th>\n",
       "      <td>20574</td>\n",
       "    </tr>\n",
       "    <tr>\n",
       "      <th>Yoüme Sushi</th>\n",
       "      <td>19758</td>\n",
       "    </tr>\n",
       "    <tr>\n",
       "      <th>...</th>\n",
       "      <td>...</td>\n",
       "    </tr>\n",
       "    <tr>\n",
       "      <th>Pizzeria Zoraya</th>\n",
       "      <td>1</td>\n",
       "    </tr>\n",
       "    <tr>\n",
       "      <th>Euro Doner Pizzeria</th>\n",
       "      <td>1</td>\n",
       "    </tr>\n",
       "    <tr>\n",
       "      <th>El Tío Vegano</th>\n",
       "      <td>1</td>\n",
       "    </tr>\n",
       "    <tr>\n",
       "      <th>Delicamon</th>\n",
       "      <td>1</td>\n",
       "    </tr>\n",
       "    <tr>\n",
       "      <th>Operación Verano Bowls</th>\n",
       "      <td>1</td>\n",
       "    </tr>\n",
       "  </tbody>\n",
       "</table>\n",
       "<p>2736 rows × 1 columns</p>\n",
       "</div>"
      ],
      "text/plain": [
       "                            ID\n",
       "                         count\n",
       "Store Name                    \n",
       "McDonald's®             111638\n",
       "Glovo Express            56410\n",
       "KFC                      45390\n",
       "VICIO                    20574\n",
       "Yoüme Sushi              19758\n",
       "...                        ...\n",
       "Pizzeria Zoraya              1\n",
       "Euro Doner Pizzeria          1\n",
       "El Tío Vegano                1\n",
       "Delicamon                    1\n",
       "Operación Verano Bowls       1\n",
       "\n",
       "[2736 rows x 1 columns]"
      ]
     },
     "execution_count": 76,
     "metadata": {},
     "output_type": "execute_result"
    }
   ],
   "source": [
    "yes = rating_yes[['Store Name','ID']].groupby(['Store Name']).agg(['count']).sort_values(('ID','count'),ascending=False)\n",
    "yes"
   ]
  },
  {
   "cell_type": "code",
   "execution_count": 79,
   "id": "098b3825-1cd5-4916-9420-46bca8ddefb8",
   "metadata": {},
   "outputs": [
    {
     "data": {
      "text/plain": [
       "Text(0, 0.5, 'Number of ratings')"
      ]
     },
     "execution_count": 79,
     "metadata": {},
     "output_type": "execute_result"
    },
    {
     "data": {
      "image/png": "[encoded data removed]",
      "text/plain": [
       "<Figure size 1080x576 with 1 Axes>"
      ]
     },
     "metadata": {},
     "output_type": "display_data"
    }
   ],
   "source": [
    "yes = rating_yes[['Store Name','ID']].groupby(['Store Name']).agg(['count']).sort_values(('ID','count'),ascending=False)\n",
    "plt.figure(figsize=(15,8))\n",
    "sns.set_style(\"darkgrid\")\n",
    "sns.lineplot(data=yes[('ID', 'count')].values)\n",
    "plt.title(\"Rating frequency of Restaurants\")\n",
    "plt.xlabel(\"Store Name\")\n",
    "plt.ylabel(\"Number of ratings\")"
   ]
  },
  {
   "cell_type": "code",
   "execution_count": 78,
   "id": "497d7db3-0592-42d9-852b-54e59de2a81e",
   "metadata": {},
   "outputs": [
    {
     "name": "stdout",
     "output_type": "stream",
     "text": [
      "Number of restaurants that have more than 500 ratings: 263\n"
     ]
    }
   ],
   "source": [
    "min_ratings = 500\n",
    "print(\"Number of restaurants that have more than {} ratings: {}\".format(min_ratings, len(yes[yes[('ID', 'count')]>=min_ratings])))"
   ]
  },
  {
   "cell_type": "code",
   "execution_count": null,
   "id": "3948b35c-7c54-4df0-a8a5-495016d88568",
   "metadata": {},
   "outputs": [],
   "source": []
  },
  {
   "cell_type": "code",
   "execution_count": null,
   "id": "e9a499c6-1a2a-4f65-8b7c-92efe47be116",
   "metadata": {},
   "outputs": [],
   "source": []
  },
  {
   "cell_type": "code",
   "execution_count": 29,
   "id": "ea8a308b",
   "metadata": {},
   "outputs": [],
   "source": [
    "min_stores_rated = 200\n",
    "\n",
    "df_users = df1[['Store Name','ID']].groupby(['ID']).agg(['count']).sort_values(('Store Name','count'),ascending=False)"
   ]
  },
  {
   "cell_type": "code",
   "execution_count": 30,
   "id": "4f2a0841-95d1-4143-9fb0-d8a5ce373855",
   "metadata": {},
   "outputs": [],
   "source": [
    "df_top_rating_users = df_users[df_users[('Store Name', 'count')]>=min_stores_rated]"
   ]
  },
  {
   "cell_type": "code",
   "execution_count": 31,
   "id": "037ee925-79da-4cff-b38a-88cec82b1ff6",
   "metadata": {},
   "outputs": [],
   "source": [
    "top_rating_users = list(df_top_rating_users.index)"
   ]
  },
  {
   "cell_type": "code",
   "execution_count": 32,
   "id": "043c8fe0-c654-4b1e-9714-689bb588bb2f",
   "metadata": {},
   "outputs": [
    {
     "ename": "NameError",
     "evalue": "name 'df_ratings_with_top_stores' is not defined",
     "output_type": "error",
     "traceback": [
      "\u001b[1;31m---------------------------------------------------------------------------\u001b[0m",
      "\u001b[1;31mNameError\u001b[0m                                 Traceback (most recent call last)",
      "Input \u001b[1;32mIn [32]\u001b[0m, in \u001b[0;36m<cell line: 1>\u001b[1;34m()\u001b[0m\n\u001b[1;32m----> 1\u001b[0m df_matrix \u001b[38;5;241m=\u001b[39m \u001b[43mdf_ratings_with_top_stores\u001b[49m[df_ratings_with_top_stores[\u001b[38;5;124m'\u001b[39m\u001b[38;5;124mID\u001b[39m\u001b[38;5;124m'\u001b[39m]\u001b[38;5;241m.\u001b[39misin(top_rating_users)]\n",
      "\u001b[1;31mNameError\u001b[0m: name 'df_ratings_with_top_stores' is not defined"
     ]
    }
   ],
   "source": [
    "df_matrix = df_ratings_with_top_stores[df_ratings_with_top_stores['ID'].isin(top_rating_users)]"
   ]
  },
  {
   "cell_type": "code",
   "execution_count": null,
   "id": "299984aa-a0fd-46df-9067-fbbe0b154630",
   "metadata": {},
   "outputs": [],
   "source": []
  },
  {
   "cell_type": "code",
   "execution_count": 38,
   "id": "9e6aa32a",
   "metadata": {},
   "outputs": [],
   "source": [
    "# Transforming Positive Evaluation into number\n",
    "df1['Positive Store Service (Yes / No)'] = df1['Positive Store Service (Yes / No)'].apply(lambda x: 1 if x=='Yes' else 0)"
   ]
  },
  {
   "cell_type": "code",
   "execution_count": 39,
   "id": "47ca80c5",
   "metadata": {},
   "outputs": [
    {
     "data": {
      "text/plain": [
       "0    1484266\n",
       "1     975734\n",
       "Name: Positive Store Service (Yes / No), dtype: int64"
      ]
     },
     "execution_count": 39,
     "metadata": {},
     "output_type": "execute_result"
    }
   ],
   "source": [
    "df1['Positive Store Service (Yes / No)'].value_counts()"
   ]
  },
  {
   "cell_type": "code",
   "execution_count": null,
   "id": "3a1cd44c-bdf8-43a2-8eb2-a17bf7457025",
   "metadata": {},
   "outputs": [],
   "source": []
  },
  {
   "cell_type": "code",
   "execution_count": null,
   "id": "28640f8a-8ffb-46f4-8c95-f59de72da666",
   "metadata": {},
   "outputs": [],
   "source": []
  },
  {
   "cell_type": "code",
   "execution_count": 25,
   "id": "7cf05f1b-f575-4f05-a7a0-db9c8b9a6933",
   "metadata": {},
   "outputs": [
    {
     "ename": "NameError",
     "evalue": "name 'sort_values' is not defined",
     "output_type": "error",
     "traceback": [
      "\u001b[1;31m---------------------------------------------------------------------------\u001b[0m",
      "\u001b[1;31mNameError\u001b[0m                                 Traceback (most recent call last)",
      "Input \u001b[1;32mIn [25]\u001b[0m, in \u001b[0;36m<cell line: 1>\u001b[1;34m()\u001b[0m\n\u001b[1;32m----> 1\u001b[0m person_u \u001b[38;5;241m=\u001b[39m \u001b[38;5;28mlist\u001b[39m(\u001b[43msort_values\u001b[49m(frame\u001b[38;5;241m.\u001b[39mdf1[\u001b[38;5;124m'\u001b[39m\u001b[38;5;124mID\u001b[39m\u001b[38;5;124m'\u001b[39m]\u001b[38;5;241m.\u001b[39munique()))\n",
      "\u001b[1;31mNameError\u001b[0m: name 'sort_values' is not defined"
     ]
    }
   ],
   "source": [
    "person_u = list(sort(frame.df1['ID'].unique()))"
   ]
  },
  {
   "cell_type": "code",
   "execution_count": null,
   "id": "40fcde12-cf8c-4dbd-bfcb-d45a3547fe7d",
   "metadata": {},
   "outputs": [],
   "source": [
    "thing_u = list(sort(frame.df1['Store Name'].unique()))"
   ]
  },
  {
   "cell_type": "code",
   "execution_count": null,
   "id": "63a82eeb-ddc0-4c02-a859-473f04ed7ca7",
   "metadata": {},
   "outputs": [],
   "source": [
    "data = frame['count'].tolist()\n",
    "row = frame.person.astype('category', categories=person_u).cat.codes\n",
    "col = frame.thing.astype('category', categories=thing_u).cat.codes\n",
    "sparse_matrix = csr_matrix((data, (row, col)), shape=(len(person_u), len(thing_u)))"
   ]
  },
  {
   "cell_type": "code",
   "execution_count": 54,
   "id": "694b11c4",
   "metadata": {},
   "outputs": [
    {
     "ename": "MemoryError",
     "evalue": "Unable to allocate 8.26 GiB for an array with shape (2830, 391554) and data type object",
     "output_type": "error",
     "traceback": [
      "\u001b[1;31m---------------------------------------------------------------------------\u001b[0m",
      "\u001b[1;31mMemoryError\u001b[0m                               Traceback (most recent call last)",
      "\u001b[1;32m<ipython-input-54-fb50e8a46da9>\u001b[0m in \u001b[0;36m<module>\u001b[1;34m\u001b[0m\n\u001b[0;32m      1\u001b[0m \u001b[1;31m# Pivot Table\u001b[0m\u001b[1;33m\u001b[0m\u001b[1;33m\u001b[0m\u001b[1;33m\u001b[0m\u001b[0m\n\u001b[1;32m----> 2\u001b[1;33m \u001b[0mpivot\u001b[0m \u001b[1;33m=\u001b[0m \u001b[0mdf\u001b[0m\u001b[1;33m.\u001b[0m\u001b[0mpivot_table\u001b[0m\u001b[1;33m(\u001b[0m\u001b[0mindex\u001b[0m\u001b[1;33m=\u001b[0m\u001b[1;34m\"ID\"\u001b[0m\u001b[1;33m,\u001b[0m \u001b[0mcolumns\u001b[0m\u001b[1;33m=\u001b[0m\u001b[1;34m\"Store Name\"\u001b[0m\u001b[1;33m,\u001b[0m \u001b[0mvalues\u001b[0m\u001b[1;33m=\u001b[0m\u001b[1;34m\"Positive Store Service (Yes / No)\"\u001b[0m\u001b[1;33m,\u001b[0m \u001b[0maggfunc\u001b[0m\u001b[1;33m=\u001b[0m\u001b[0mnp\u001b[0m\u001b[1;33m.\u001b[0m\u001b[0msum\u001b[0m\u001b[1;33m)\u001b[0m\u001b[1;33m\u001b[0m\u001b[1;33m\u001b[0m\u001b[0m\n\u001b[0m\u001b[0;32m      3\u001b[0m \u001b[0mpivot\u001b[0m\u001b[1;33m\u001b[0m\u001b[1;33m\u001b[0m\u001b[0m\n",
      "\u001b[1;32m~\\anaconda3\\lib\\site-packages\\pandas\\core\\frame.py\u001b[0m in \u001b[0;36mpivot_table\u001b[1;34m(self, values, index, columns, aggfunc, fill_value, margins, dropna, margins_name, observed)\u001b[0m\n\u001b[0;32m   7029\u001b[0m         \u001b[1;32mfrom\u001b[0m \u001b[0mpandas\u001b[0m\u001b[1;33m.\u001b[0m\u001b[0mcore\u001b[0m\u001b[1;33m.\u001b[0m\u001b[0mreshape\u001b[0m\u001b[1;33m.\u001b[0m\u001b[0mpivot\u001b[0m \u001b[1;32mimport\u001b[0m \u001b[0mpivot_table\u001b[0m\u001b[1;33m\u001b[0m\u001b[1;33m\u001b[0m\u001b[0m\n\u001b[0;32m   7030\u001b[0m \u001b[1;33m\u001b[0m\u001b[0m\n\u001b[1;32m-> 7031\u001b[1;33m         return pivot_table(\n\u001b[0m\u001b[0;32m   7032\u001b[0m             \u001b[0mself\u001b[0m\u001b[1;33m,\u001b[0m\u001b[1;33m\u001b[0m\u001b[1;33m\u001b[0m\u001b[0m\n\u001b[0;32m   7033\u001b[0m             \u001b[0mvalues\u001b[0m\u001b[1;33m=\u001b[0m\u001b[0mvalues\u001b[0m\u001b[1;33m,\u001b[0m\u001b[1;33m\u001b[0m\u001b[1;33m\u001b[0m\u001b[0m\n",
      "\u001b[1;32m~\\anaconda3\\lib\\site-packages\\pandas\\core\\reshape\\pivot.py\u001b[0m in \u001b[0;36mpivot_table\u001b[1;34m(data, values, index, columns, aggfunc, fill_value, margins, dropna, margins_name, observed)\u001b[0m\n\u001b[0;32m    144\u001b[0m             \u001b[1;32melse\u001b[0m\u001b[1;33m:\u001b[0m\u001b[1;33m\u001b[0m\u001b[1;33m\u001b[0m\u001b[0m\n\u001b[0;32m    145\u001b[0m                 \u001b[0mto_unstack\u001b[0m\u001b[1;33m.\u001b[0m\u001b[0mappend\u001b[0m\u001b[1;33m(\u001b[0m\u001b[0mname\u001b[0m\u001b[1;33m)\u001b[0m\u001b[1;33m\u001b[0m\u001b[1;33m\u001b[0m\u001b[0m\n\u001b[1;32m--> 146\u001b[1;33m         \u001b[0mtable\u001b[0m \u001b[1;33m=\u001b[0m \u001b[0magged\u001b[0m\u001b[1;33m.\u001b[0m\u001b[0munstack\u001b[0m\u001b[1;33m(\u001b[0m\u001b[0mto_unstack\u001b[0m\u001b[1;33m)\u001b[0m\u001b[1;33m\u001b[0m\u001b[1;33m\u001b[0m\u001b[0m\n\u001b[0m\u001b[0;32m    147\u001b[0m \u001b[1;33m\u001b[0m\u001b[0m\n\u001b[0;32m    148\u001b[0m     \u001b[1;32mif\u001b[0m \u001b[1;32mnot\u001b[0m \u001b[0mdropna\u001b[0m\u001b[1;33m:\u001b[0m\u001b[1;33m\u001b[0m\u001b[1;33m\u001b[0m\u001b[0m\n",
      "\u001b[1;32m~\\anaconda3\\lib\\site-packages\\pandas\\core\\frame.py\u001b[0m in \u001b[0;36munstack\u001b[1;34m(self, level, fill_value)\u001b[0m\n\u001b[0;32m   7350\u001b[0m         \u001b[1;32mfrom\u001b[0m \u001b[0mpandas\u001b[0m\u001b[1;33m.\u001b[0m\u001b[0mcore\u001b[0m\u001b[1;33m.\u001b[0m\u001b[0mreshape\u001b[0m\u001b[1;33m.\u001b[0m\u001b[0mreshape\u001b[0m \u001b[1;32mimport\u001b[0m \u001b[0munstack\u001b[0m\u001b[1;33m\u001b[0m\u001b[1;33m\u001b[0m\u001b[0m\n\u001b[0;32m   7351\u001b[0m \u001b[1;33m\u001b[0m\u001b[0m\n\u001b[1;32m-> 7352\u001b[1;33m         \u001b[0mresult\u001b[0m \u001b[1;33m=\u001b[0m \u001b[0munstack\u001b[0m\u001b[1;33m(\u001b[0m\u001b[0mself\u001b[0m\u001b[1;33m,\u001b[0m \u001b[0mlevel\u001b[0m\u001b[1;33m,\u001b[0m \u001b[0mfill_value\u001b[0m\u001b[1;33m)\u001b[0m\u001b[1;33m\u001b[0m\u001b[1;33m\u001b[0m\u001b[0m\n\u001b[0m\u001b[0;32m   7353\u001b[0m \u001b[1;33m\u001b[0m\u001b[0m\n\u001b[0;32m   7354\u001b[0m         \u001b[1;32mreturn\u001b[0m \u001b[0mresult\u001b[0m\u001b[1;33m.\u001b[0m\u001b[0m__finalize__\u001b[0m\u001b[1;33m(\u001b[0m\u001b[0mself\u001b[0m\u001b[1;33m,\u001b[0m \u001b[0mmethod\u001b[0m\u001b[1;33m=\u001b[0m\u001b[1;34m\"unstack\"\u001b[0m\u001b[1;33m)\u001b[0m\u001b[1;33m\u001b[0m\u001b[1;33m\u001b[0m\u001b[0m\n",
      "\u001b[1;32m~\\anaconda3\\lib\\site-packages\\pandas\\core\\reshape\\reshape.py\u001b[0m in \u001b[0;36munstack\u001b[1;34m(obj, level, fill_value)\u001b[0m\n\u001b[0;32m    415\u001b[0m     \u001b[1;32mif\u001b[0m \u001b[0misinstance\u001b[0m\u001b[1;33m(\u001b[0m\u001b[0mobj\u001b[0m\u001b[1;33m,\u001b[0m \u001b[0mDataFrame\u001b[0m\u001b[1;33m)\u001b[0m\u001b[1;33m:\u001b[0m\u001b[1;33m\u001b[0m\u001b[1;33m\u001b[0m\u001b[0m\n\u001b[0;32m    416\u001b[0m         \u001b[1;32mif\u001b[0m \u001b[0misinstance\u001b[0m\u001b[1;33m(\u001b[0m\u001b[0mobj\u001b[0m\u001b[1;33m.\u001b[0m\u001b[0mindex\u001b[0m\u001b[1;33m,\u001b[0m \u001b[0mMultiIndex\u001b[0m\u001b[1;33m)\u001b[0m\u001b[1;33m:\u001b[0m\u001b[1;33m\u001b[0m\u001b[1;33m\u001b[0m\u001b[0m\n\u001b[1;32m--> 417\u001b[1;33m             \u001b[1;32mreturn\u001b[0m \u001b[0m_unstack_frame\u001b[0m\u001b[1;33m(\u001b[0m\u001b[0mobj\u001b[0m\u001b[1;33m,\u001b[0m \u001b[0mlevel\u001b[0m\u001b[1;33m,\u001b[0m \u001b[0mfill_value\u001b[0m\u001b[1;33m=\u001b[0m\u001b[0mfill_value\u001b[0m\u001b[1;33m)\u001b[0m\u001b[1;33m\u001b[0m\u001b[1;33m\u001b[0m\u001b[0m\n\u001b[0m\u001b[0;32m    418\u001b[0m         \u001b[1;32melse\u001b[0m\u001b[1;33m:\u001b[0m\u001b[1;33m\u001b[0m\u001b[1;33m\u001b[0m\u001b[0m\n\u001b[0;32m    419\u001b[0m             \u001b[1;32mreturn\u001b[0m \u001b[0mobj\u001b[0m\u001b[1;33m.\u001b[0m\u001b[0mT\u001b[0m\u001b[1;33m.\u001b[0m\u001b[0mstack\u001b[0m\u001b[1;33m(\u001b[0m\u001b[0mdropna\u001b[0m\u001b[1;33m=\u001b[0m\u001b[1;32mFalse\u001b[0m\u001b[1;33m)\u001b[0m\u001b[1;33m\u001b[0m\u001b[1;33m\u001b[0m\u001b[0m\n",
      "\u001b[1;32m~\\anaconda3\\lib\\site-packages\\pandas\\core\\reshape\\reshape.py\u001b[0m in \u001b[0;36m_unstack_frame\u001b[1;34m(obj, level, fill_value)\u001b[0m\n\u001b[0;32m    442\u001b[0m         \u001b[1;32mreturn\u001b[0m \u001b[0mobj\u001b[0m\u001b[1;33m.\u001b[0m\u001b[0m_constructor\u001b[0m\u001b[1;33m(\u001b[0m\u001b[0mmgr\u001b[0m\u001b[1;33m)\u001b[0m\u001b[1;33m\u001b[0m\u001b[1;33m\u001b[0m\u001b[0m\n\u001b[0;32m    443\u001b[0m     \u001b[1;32melse\u001b[0m\u001b[1;33m:\u001b[0m\u001b[1;33m\u001b[0m\u001b[1;33m\u001b[0m\u001b[0m\n\u001b[1;32m--> 444\u001b[1;33m         return _Unstacker(\n\u001b[0m\u001b[0;32m    445\u001b[0m             \u001b[0mobj\u001b[0m\u001b[1;33m.\u001b[0m\u001b[0mindex\u001b[0m\u001b[1;33m,\u001b[0m \u001b[0mlevel\u001b[0m\u001b[1;33m=\u001b[0m\u001b[0mlevel\u001b[0m\u001b[1;33m,\u001b[0m \u001b[0mconstructor\u001b[0m\u001b[1;33m=\u001b[0m\u001b[0mobj\u001b[0m\u001b[1;33m.\u001b[0m\u001b[0m_constructor\u001b[0m\u001b[1;33m\u001b[0m\u001b[1;33m\u001b[0m\u001b[0m\n\u001b[0;32m    446\u001b[0m         ).get_result(obj._values, value_columns=obj.columns, fill_value=fill_value)\n",
      "\u001b[1;32m~\\anaconda3\\lib\\site-packages\\pandas\\core\\reshape\\reshape.py\u001b[0m in \u001b[0;36mget_result\u001b[1;34m(self, values, value_columns, fill_value)\u001b[0m\n\u001b[0;32m    184\u001b[0m         \u001b[0mindex\u001b[0m \u001b[1;33m=\u001b[0m \u001b[0mself\u001b[0m\u001b[1;33m.\u001b[0m\u001b[0mnew_index\u001b[0m\u001b[1;33m\u001b[0m\u001b[1;33m\u001b[0m\u001b[0m\n\u001b[0;32m    185\u001b[0m \u001b[1;33m\u001b[0m\u001b[0m\n\u001b[1;32m--> 186\u001b[1;33m         \u001b[1;32mreturn\u001b[0m \u001b[0mself\u001b[0m\u001b[1;33m.\u001b[0m\u001b[0mconstructor\u001b[0m\u001b[1;33m(\u001b[0m\u001b[0mvalues\u001b[0m\u001b[1;33m,\u001b[0m \u001b[0mindex\u001b[0m\u001b[1;33m=\u001b[0m\u001b[0mindex\u001b[0m\u001b[1;33m,\u001b[0m \u001b[0mcolumns\u001b[0m\u001b[1;33m=\u001b[0m\u001b[0mcolumns\u001b[0m\u001b[1;33m)\u001b[0m\u001b[1;33m\u001b[0m\u001b[1;33m\u001b[0m\u001b[0m\n\u001b[0m\u001b[0;32m    187\u001b[0m \u001b[1;33m\u001b[0m\u001b[0m\n\u001b[0;32m    188\u001b[0m     \u001b[1;32mdef\u001b[0m \u001b[0mget_new_values\u001b[0m\u001b[1;33m(\u001b[0m\u001b[0mself\u001b[0m\u001b[1;33m,\u001b[0m \u001b[0mvalues\u001b[0m\u001b[1;33m,\u001b[0m \u001b[0mfill_value\u001b[0m\u001b[1;33m=\u001b[0m\u001b[1;32mNone\u001b[0m\u001b[1;33m)\u001b[0m\u001b[1;33m:\u001b[0m\u001b[1;33m\u001b[0m\u001b[1;33m\u001b[0m\u001b[0m\n",
      "\u001b[1;32m~\\anaconda3\\lib\\site-packages\\pandas\\core\\frame.py\u001b[0m in \u001b[0;36m__init__\u001b[1;34m(self, data, index, columns, dtype, copy)\u001b[0m\n\u001b[0;32m    556\u001b[0m                 \u001b[0mmgr\u001b[0m \u001b[1;33m=\u001b[0m \u001b[0minit_dict\u001b[0m\u001b[1;33m(\u001b[0m\u001b[1;33m{\u001b[0m\u001b[0mdata\u001b[0m\u001b[1;33m.\u001b[0m\u001b[0mname\u001b[0m\u001b[1;33m:\u001b[0m \u001b[0mdata\u001b[0m\u001b[1;33m}\u001b[0m\u001b[1;33m,\u001b[0m \u001b[0mindex\u001b[0m\u001b[1;33m,\u001b[0m \u001b[0mcolumns\u001b[0m\u001b[1;33m,\u001b[0m \u001b[0mdtype\u001b[0m\u001b[1;33m=\u001b[0m\u001b[0mdtype\u001b[0m\u001b[1;33m)\u001b[0m\u001b[1;33m\u001b[0m\u001b[1;33m\u001b[0m\u001b[0m\n\u001b[0;32m    557\u001b[0m             \u001b[1;32melse\u001b[0m\u001b[1;33m:\u001b[0m\u001b[1;33m\u001b[0m\u001b[1;33m\u001b[0m\u001b[0m\n\u001b[1;32m--> 558\u001b[1;33m                 \u001b[0mmgr\u001b[0m \u001b[1;33m=\u001b[0m \u001b[0minit_ndarray\u001b[0m\u001b[1;33m(\u001b[0m\u001b[0mdata\u001b[0m\u001b[1;33m,\u001b[0m \u001b[0mindex\u001b[0m\u001b[1;33m,\u001b[0m \u001b[0mcolumns\u001b[0m\u001b[1;33m,\u001b[0m \u001b[0mdtype\u001b[0m\u001b[1;33m=\u001b[0m\u001b[0mdtype\u001b[0m\u001b[1;33m,\u001b[0m \u001b[0mcopy\u001b[0m\u001b[1;33m=\u001b[0m\u001b[0mcopy\u001b[0m\u001b[1;33m)\u001b[0m\u001b[1;33m\u001b[0m\u001b[1;33m\u001b[0m\u001b[0m\n\u001b[0m\u001b[0;32m    559\u001b[0m \u001b[1;33m\u001b[0m\u001b[0m\n\u001b[0;32m    560\u001b[0m         \u001b[1;31m# For data is list-like, or Iterable (will consume into list)\u001b[0m\u001b[1;33m\u001b[0m\u001b[1;33m\u001b[0m\u001b[1;33m\u001b[0m\u001b[0m\n",
      "\u001b[1;32m~\\anaconda3\\lib\\site-packages\\pandas\\core\\internals\\construction.py\u001b[0m in \u001b[0;36minit_ndarray\u001b[1;34m(values, index, columns, dtype, copy)\u001b[0m\n\u001b[0;32m    236\u001b[0m         \u001b[0mblock_values\u001b[0m \u001b[1;33m=\u001b[0m \u001b[1;33m[\u001b[0m\u001b[0mvalues\u001b[0m\u001b[1;33m]\u001b[0m\u001b[1;33m\u001b[0m\u001b[1;33m\u001b[0m\u001b[0m\n\u001b[0;32m    237\u001b[0m \u001b[1;33m\u001b[0m\u001b[0m\n\u001b[1;32m--> 238\u001b[1;33m     \u001b[1;32mreturn\u001b[0m \u001b[0mcreate_block_manager_from_blocks\u001b[0m\u001b[1;33m(\u001b[0m\u001b[0mblock_values\u001b[0m\u001b[1;33m,\u001b[0m \u001b[1;33m[\u001b[0m\u001b[0mcolumns\u001b[0m\u001b[1;33m,\u001b[0m \u001b[0mindex\u001b[0m\u001b[1;33m]\u001b[0m\u001b[1;33m)\u001b[0m\u001b[1;33m\u001b[0m\u001b[1;33m\u001b[0m\u001b[0m\n\u001b[0m\u001b[0;32m    239\u001b[0m \u001b[1;33m\u001b[0m\u001b[0m\n\u001b[0;32m    240\u001b[0m \u001b[1;33m\u001b[0m\u001b[0m\n",
      "\u001b[1;32m~\\anaconda3\\lib\\site-packages\\pandas\\core\\internals\\managers.py\u001b[0m in \u001b[0;36mcreate_block_manager_from_blocks\u001b[1;34m(blocks, axes)\u001b[0m\n\u001b[0;32m   1679\u001b[0m \u001b[1;33m\u001b[0m\u001b[0m\n\u001b[0;32m   1680\u001b[0m         \u001b[0mmgr\u001b[0m \u001b[1;33m=\u001b[0m \u001b[0mBlockManager\u001b[0m\u001b[1;33m(\u001b[0m\u001b[0mblocks\u001b[0m\u001b[1;33m,\u001b[0m \u001b[0maxes\u001b[0m\u001b[1;33m)\u001b[0m\u001b[1;33m\u001b[0m\u001b[1;33m\u001b[0m\u001b[0m\n\u001b[1;32m-> 1681\u001b[1;33m         \u001b[0mmgr\u001b[0m\u001b[1;33m.\u001b[0m\u001b[0m_consolidate_inplace\u001b[0m\u001b[1;33m(\u001b[0m\u001b[1;33m)\u001b[0m\u001b[1;33m\u001b[0m\u001b[1;33m\u001b[0m\u001b[0m\n\u001b[0m\u001b[0;32m   1682\u001b[0m         \u001b[1;32mreturn\u001b[0m \u001b[0mmgr\u001b[0m\u001b[1;33m\u001b[0m\u001b[1;33m\u001b[0m\u001b[0m\n\u001b[0;32m   1683\u001b[0m \u001b[1;33m\u001b[0m\u001b[0m\n",
      "\u001b[1;32m~\\anaconda3\\lib\\site-packages\\pandas\\core\\internals\\managers.py\u001b[0m in \u001b[0;36m_consolidate_inplace\u001b[1;34m(self)\u001b[0m\n\u001b[0;32m    991\u001b[0m     \u001b[1;32mdef\u001b[0m \u001b[0m_consolidate_inplace\u001b[0m\u001b[1;33m(\u001b[0m\u001b[0mself\u001b[0m\u001b[1;33m)\u001b[0m \u001b[1;33m->\u001b[0m \u001b[1;32mNone\u001b[0m\u001b[1;33m:\u001b[0m\u001b[1;33m\u001b[0m\u001b[1;33m\u001b[0m\u001b[0m\n\u001b[0;32m    992\u001b[0m         \u001b[1;32mif\u001b[0m \u001b[1;32mnot\u001b[0m \u001b[0mself\u001b[0m\u001b[1;33m.\u001b[0m\u001b[0mis_consolidated\u001b[0m\u001b[1;33m(\u001b[0m\u001b[1;33m)\u001b[0m\u001b[1;33m:\u001b[0m\u001b[1;33m\u001b[0m\u001b[1;33m\u001b[0m\u001b[0m\n\u001b[1;32m--> 993\u001b[1;33m             \u001b[0mself\u001b[0m\u001b[1;33m.\u001b[0m\u001b[0mblocks\u001b[0m \u001b[1;33m=\u001b[0m \u001b[0mtuple\u001b[0m\u001b[1;33m(\u001b[0m\u001b[0m_consolidate\u001b[0m\u001b[1;33m(\u001b[0m\u001b[0mself\u001b[0m\u001b[1;33m.\u001b[0m\u001b[0mblocks\u001b[0m\u001b[1;33m)\u001b[0m\u001b[1;33m)\u001b[0m\u001b[1;33m\u001b[0m\u001b[1;33m\u001b[0m\u001b[0m\n\u001b[0m\u001b[0;32m    994\u001b[0m             \u001b[0mself\u001b[0m\u001b[1;33m.\u001b[0m\u001b[0m_is_consolidated\u001b[0m \u001b[1;33m=\u001b[0m \u001b[1;32mTrue\u001b[0m\u001b[1;33m\u001b[0m\u001b[1;33m\u001b[0m\u001b[0m\n\u001b[0;32m    995\u001b[0m             \u001b[0mself\u001b[0m\u001b[1;33m.\u001b[0m\u001b[0m_known_consolidated\u001b[0m \u001b[1;33m=\u001b[0m \u001b[1;32mTrue\u001b[0m\u001b[1;33m\u001b[0m\u001b[1;33m\u001b[0m\u001b[0m\n",
      "\u001b[1;32m~\\anaconda3\\lib\\site-packages\\pandas\\core\\internals\\managers.py\u001b[0m in \u001b[0;36m_consolidate\u001b[1;34m(blocks)\u001b[0m\n\u001b[0;32m   1914\u001b[0m     \u001b[0mnew_blocks\u001b[0m\u001b[1;33m:\u001b[0m \u001b[0mList\u001b[0m\u001b[1;33m[\u001b[0m\u001b[0mBlock\u001b[0m\u001b[1;33m]\u001b[0m \u001b[1;33m=\u001b[0m \u001b[1;33m[\u001b[0m\u001b[1;33m]\u001b[0m\u001b[1;33m\u001b[0m\u001b[1;33m\u001b[0m\u001b[0m\n\u001b[0;32m   1915\u001b[0m     \u001b[1;32mfor\u001b[0m \u001b[1;33m(\u001b[0m\u001b[0m_can_consolidate\u001b[0m\u001b[1;33m,\u001b[0m \u001b[0mdtype\u001b[0m\u001b[1;33m)\u001b[0m\u001b[1;33m,\u001b[0m \u001b[0mgroup_blocks\u001b[0m \u001b[1;32min\u001b[0m \u001b[0mgrouper\u001b[0m\u001b[1;33m:\u001b[0m\u001b[1;33m\u001b[0m\u001b[1;33m\u001b[0m\u001b[0m\n\u001b[1;32m-> 1916\u001b[1;33m         merged_blocks = _merge_blocks(\n\u001b[0m\u001b[0;32m   1917\u001b[0m             \u001b[0mlist\u001b[0m\u001b[1;33m(\u001b[0m\u001b[0mgroup_blocks\u001b[0m\u001b[1;33m)\u001b[0m\u001b[1;33m,\u001b[0m \u001b[0mdtype\u001b[0m\u001b[1;33m=\u001b[0m\u001b[0mdtype\u001b[0m\u001b[1;33m,\u001b[0m \u001b[0mcan_consolidate\u001b[0m\u001b[1;33m=\u001b[0m\u001b[0m_can_consolidate\u001b[0m\u001b[1;33m\u001b[0m\u001b[1;33m\u001b[0m\u001b[0m\n\u001b[0;32m   1918\u001b[0m         )\n",
      "\u001b[1;32m~\\anaconda3\\lib\\site-packages\\pandas\\core\\internals\\managers.py\u001b[0m in \u001b[0;36m_merge_blocks\u001b[1;34m(blocks, dtype, can_consolidate)\u001b[0m\n\u001b[0;32m   1940\u001b[0m \u001b[1;33m\u001b[0m\u001b[0m\n\u001b[0;32m   1941\u001b[0m         \u001b[0margsort\u001b[0m \u001b[1;33m=\u001b[0m \u001b[0mnp\u001b[0m\u001b[1;33m.\u001b[0m\u001b[0margsort\u001b[0m\u001b[1;33m(\u001b[0m\u001b[0mnew_mgr_locs\u001b[0m\u001b[1;33m)\u001b[0m\u001b[1;33m\u001b[0m\u001b[1;33m\u001b[0m\u001b[0m\n\u001b[1;32m-> 1942\u001b[1;33m         \u001b[0mnew_values\u001b[0m \u001b[1;33m=\u001b[0m \u001b[0mnew_values\u001b[0m\u001b[1;33m[\u001b[0m\u001b[0margsort\u001b[0m\u001b[1;33m]\u001b[0m\u001b[1;33m\u001b[0m\u001b[1;33m\u001b[0m\u001b[0m\n\u001b[0m\u001b[0;32m   1943\u001b[0m         \u001b[0mnew_mgr_locs\u001b[0m \u001b[1;33m=\u001b[0m \u001b[0mnew_mgr_locs\u001b[0m\u001b[1;33m[\u001b[0m\u001b[0margsort\u001b[0m\u001b[1;33m]\u001b[0m\u001b[1;33m\u001b[0m\u001b[1;33m\u001b[0m\u001b[0m\n\u001b[0;32m   1944\u001b[0m \u001b[1;33m\u001b[0m\u001b[0m\n",
      "\u001b[1;31mMemoryError\u001b[0m: Unable to allocate 8.26 GiB for an array with shape (2830, 391554) and data type object"
     ]
    }
   ],
   "source": [
    "# Pivot Table\n",
    "pivot = df.pivot_table(index=\"ID\", columns=\"Store Name\", values=\"Positive Store Service (Yes / No)\", aggfunc=np.sum)\n",
    "pivot"
   ]
  },
  {
   "cell_type": "code",
   "execution_count": null,
   "id": "b1661ea4-4fe3-487f-81ea-2669ea9ce72a",
   "metadata": {},
   "outputs": [],
   "source": []
  }
 ],
 "metadata": {
  "kernelspec": {
   "display_name": "Python 3 (ipykernel)",
   "language": "python",
   "name": "python3"
  },
  "language_info": {
   "codemirror_mode": {
    "name": "ipython",
    "version": 3
   },
   "file_extension": ".py",
   "mimetype": "text/x-python",
   "name": "python",
   "nbconvert_exporter": "python",
   "pygments_lexer": "ipython3",
   "version": "3.9.7"
  }
 },
 "nbformat": 4,
 "nbformat_minor": 5
}
